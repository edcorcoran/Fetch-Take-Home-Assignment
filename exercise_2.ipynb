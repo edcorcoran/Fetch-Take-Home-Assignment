{
 "cells": [
  {
   "cell_type": "markdown",
   "metadata": {},
   "source": [
    "# Exercise 2\n",
    "Answer three of the following questions with at least one question coming from the closed-ended and one from the open-ended question set. Each question should be answered using one query.\n",
    "\n",
    "Closed-ended questions:\n",
    "- **What are the top 5 brands by receipts scanned among users 21 and over?**\n",
    "- **What are the top 5 brands by sales among users that have had their account for at least six months?**\n",
    "- What is the percentage of sales in the Health & Wellness category by generation?\n",
    "\n",
    "Open-ended questions: for these, make assumptions and clearly state them when answering the question.\n",
    "- Who are Fetch’s power users?\n",
    "- Which is the leading brand in the Dips & Salsa category?\n",
    "- **At what percent has Fetch grown year over year?**"
   ]
  },
  {
   "cell_type": "markdown",
   "metadata": {},
   "source": [
    "##  1. What are the top 5 brands by receipts scanned among users 21 and over?\n",
    "\n",
    "One major caveat: because the User data is incomplete and the majority of `user_id` values in Transactions do not have a matching value in Users, the number of receipts is very small and I do not think this is an accurate depiction of brand popularity. "
   ]
  },
  {
   "cell_type": "code",
   "execution_count": 22,
   "metadata": {},
   "outputs": [
    {
     "data": {
      "text/html": [
       "<table>\n",
       "<tbody>\n",
       "<tr><td>NERDS CANDY    </td><td style=\"text-align: right;\">3</td></tr>\n",
       "<tr><td>DOVE           </td><td style=\"text-align: right;\">3</td></tr>\n",
       "<tr><td>TRIDENT        </td><td style=\"text-align: right;\">2</td></tr>\n",
       "<tr><td>SOUR PATCH KIDS</td><td style=\"text-align: right;\">2</td></tr>\n",
       "<tr><td>MEIJER         </td><td style=\"text-align: right;\">2</td></tr>\n",
       "</tbody>\n",
       "</table>"
      ],
      "text/plain": [
       "'<table>\\n<tbody>\\n<tr><td>NERDS CANDY    </td><td style=\"text-align: right;\">3</td></tr>\\n<tr><td>DOVE           </td><td style=\"text-align: right;\">3</td></tr>\\n<tr><td>TRIDENT        </td><td style=\"text-align: right;\">2</td></tr>\\n<tr><td>SOUR PATCH KIDS</td><td style=\"text-align: right;\">2</td></tr>\\n<tr><td>MEIJER         </td><td style=\"text-align: right;\">2</td></tr>\\n</tbody>\\n</table>'"
      ]
     },
     "execution_count": 22,
     "metadata": {},
     "output_type": "execute_result"
    }
   ],
   "source": [
    "# What are the top 5 brands by receipts scanned among users 21 and over?\n",
    "\n",
    "import sqlite3\n",
    "import tabulate\n",
    "conn = sqlite3.connect('fetch.sqlite')\n",
    "cur = conn.cursor()\n",
    "\n",
    "cur.execute('''\n",
    "select p.brand\n",
    ", count(distinct receipt_id) as n_receipts\n",
    "from transactions t\n",
    "inner join products_clean p on t.barcode = p.barcode\n",
    "inner join users u on t.user_id = u.user_id\n",
    "where p.brand is not null\n",
    "    and date(u.birth_date) <= date(current_date, '-21 year')\n",
    "group by p.brand \n",
    "order by n_receipts desc\n",
    "limit 5\n",
    "''')\n",
    "\n",
    "cur.close \n",
    "conn.close\n",
    "\n",
    "tabulate.tabulate(cur.fetchall(), tablefmt='html')"
   ]
  },
  {
   "cell_type": "markdown",
   "metadata": {},
   "source": [
    "## 2. What are the top 5 brands by sales among users that have had their account for at least six months?\n",
    "\n",
    "Same caveat as on previous question: because the User data is incomplete and the majority of `user_id` values in Transactions do not have a matching value in Users, the number of receipts is very small and I do not think this is an accurate depiction of brand popularity. In addition, not all receipts have a value for `final_sale`, so that will also reduce the accuracy of the ranking. "
   ]
  },
  {
   "cell_type": "code",
   "execution_count": 26,
   "metadata": {},
   "outputs": [
    {
     "data": {
      "text/html": [
       "<table>\n",
       "<tbody>\n",
       "<tr><td>CVS        </td><td style=\"text-align: right;\">72   </td></tr>\n",
       "<tr><td>TRIDENT    </td><td style=\"text-align: right;\">46.72</td></tr>\n",
       "<tr><td>DOVE       </td><td style=\"text-align: right;\">42.88</td></tr>\n",
       "<tr><td>COORS LIGHT</td><td style=\"text-align: right;\">34.96</td></tr>\n",
       "<tr><td>QUAKER     </td><td style=\"text-align: right;\">16.6 </td></tr>\n",
       "</tbody>\n",
       "</table>"
      ],
      "text/plain": [
       "'<table>\\n<tbody>\\n<tr><td>CVS        </td><td style=\"text-align: right;\">72   </td></tr>\\n<tr><td>TRIDENT    </td><td style=\"text-align: right;\">46.72</td></tr>\\n<tr><td>DOVE       </td><td style=\"text-align: right;\">42.88</td></tr>\\n<tr><td>COORS LIGHT</td><td style=\"text-align: right;\">34.96</td></tr>\\n<tr><td>QUAKER     </td><td style=\"text-align: right;\">16.6 </td></tr>\\n</tbody>\\n</table>'"
      ]
     },
     "execution_count": 26,
     "metadata": {},
     "output_type": "execute_result"
    }
   ],
   "source": [
    "import sqlite3\n",
    "import tabulate\n",
    "conn = sqlite3.connect('fetch.sqlite')\n",
    "cur = conn.cursor()\n",
    "\n",
    "cur.execute('''\n",
    "select p.brand\n",
    ", sum(cast(final_sale as decimal)) as total_sales\n",
    "from transactions t\n",
    "inner join products_clean p on t.barcode = p.barcode\n",
    "inner join users u on t.user_id = u.user_id\n",
    "where p.brand is not null\n",
    "    and u.created_at <= datetime(current_timestamp, '-6 month')\n",
    "group by p.brand \n",
    "order by total_sales desc\n",
    "limit 5\n",
    "''')\n",
    "\n",
    "cur.close \n",
    "conn.close\n",
    "\n",
    "tabulate.tabulate(cur.fetchall(), tablefmt='html')"
   ]
  },
  {
   "cell_type": "markdown",
   "metadata": {},
   "source": [
    "## 3. At what percent has Fetch grown year over year?\n",
    "Since the Transactions data is only for 2024-06-12 through 2024-09-08, I am looking at user growth. However, due to the previously discussed missing user data, while these numbers are accurate for the dataset given they are likely not accurate for Fetch's overall business. \n",
    "\n",
    "In addition, the User data only goes through September 11th of 2024, so I will compare monthly user growth for the first 8 months of the year. \n",
    "\n",
    "My analysis shows that while Fetch's user growth was down substantially in the first two months of 2024, growth began to catch up in March through June and then in July and August, growth dramatically increased. "
   ]
  },
  {
   "cell_type": "code",
   "execution_count": 62,
   "metadata": {},
   "outputs": [
    {
     "data": {
      "text/html": [
       "<table>\n",
       "<thead>\n",
       "<tr><th>       </th><th style=\"text-align: right;\">  This Year</th><th style=\"text-align: right;\">  Previous Year</th><th style=\"text-align: right;\">  Percent Change</th></tr>\n",
       "</thead>\n",
       "<tbody>\n",
       "<tr><td>2024-01</td><td style=\"text-align: right;\">       1044</td><td style=\"text-align: right;\">           2207</td><td style=\"text-align: right;\">           -52.7</td></tr>\n",
       "<tr><td>2024-02</td><td style=\"text-align: right;\">        958</td><td style=\"text-align: right;\">           1760</td><td style=\"text-align: right;\">           -45.6</td></tr>\n",
       "<tr><td>2024-03</td><td style=\"text-align: right;\">       1200</td><td style=\"text-align: right;\">           1356</td><td style=\"text-align: right;\">           -11.5</td></tr>\n",
       "<tr><td>2024-04</td><td style=\"text-align: right;\">       1200</td><td style=\"text-align: right;\">           1114</td><td style=\"text-align: right;\">             7.7</td></tr>\n",
       "<tr><td>2024-05</td><td style=\"text-align: right;\">       1146</td><td style=\"text-align: right;\">           1209</td><td style=\"text-align: right;\">            -5.2</td></tr>\n",
       "<tr><td>2024-06</td><td style=\"text-align: right;\">       1260</td><td style=\"text-align: right;\">           1198</td><td style=\"text-align: right;\">             5.2</td></tr>\n",
       "<tr><td>2024-07</td><td style=\"text-align: right;\">       2037</td><td style=\"text-align: right;\">           1276</td><td style=\"text-align: right;\">            59.6</td></tr>\n",
       "<tr><td>2024-08</td><td style=\"text-align: right;\">       1807</td><td style=\"text-align: right;\">           1215</td><td style=\"text-align: right;\">            48.7</td></tr>\n",
       "</tbody>\n",
       "</table>"
      ],
      "text/plain": [
       "'<table>\\n<thead>\\n<tr><th>       </th><th style=\"text-align: right;\">  This Year</th><th style=\"text-align: right;\">  Previous Year</th><th style=\"text-align: right;\">  Percent Change</th></tr>\\n</thead>\\n<tbody>\\n<tr><td>2024-01</td><td style=\"text-align: right;\">       1044</td><td style=\"text-align: right;\">           2207</td><td style=\"text-align: right;\">           -52.7</td></tr>\\n<tr><td>2024-02</td><td style=\"text-align: right;\">        958</td><td style=\"text-align: right;\">           1760</td><td style=\"text-align: right;\">           -45.6</td></tr>\\n<tr><td>2024-03</td><td style=\"text-align: right;\">       1200</td><td style=\"text-align: right;\">           1356</td><td style=\"text-align: right;\">           -11.5</td></tr>\\n<tr><td>2024-04</td><td style=\"text-align: right;\">       1200</td><td style=\"text-align: right;\">           1114</td><td style=\"text-align: right;\">             7.7</td></tr>\\n<tr><td>2024-05</td><td style=\"text-align: right;\">       1146</td><td style=\"text-align: right;\">           1209</td><td style=\"text-align: right;\">            -5.2</td></tr>\\n<tr><td>2024-06</td><td style=\"text-align: right;\">       1260</td><td style=\"text-align: right;\">           1198</td><td style=\"text-align: right;\">             5.2</td></tr>\\n<tr><td>2024-07</td><td style=\"text-align: right;\">       2037</td><td style=\"text-align: right;\">           1276</td><td style=\"text-align: right;\">            59.6</td></tr>\\n<tr><td>2024-08</td><td style=\"text-align: right;\">       1807</td><td style=\"text-align: right;\">           1215</td><td style=\"text-align: right;\">            48.7</td></tr>\\n</tbody>\\n</table>'"
      ]
     },
     "execution_count": 62,
     "metadata": {},
     "output_type": "execute_result"
    }
   ],
   "source": [
    "import sqlite3\n",
    "import tabulate\n",
    "conn = sqlite3.connect('fetch.sqlite')\n",
    "conn.row_factory = sqlite3.Row\n",
    "cur = conn.cursor()\n",
    "\n",
    "cur.execute('''\n",
    "with monthly_users as\n",
    "(\n",
    "    select \n",
    "        strftime('%Y-%m', created_at) as created_year_month   \n",
    "        , count(*) as n_users_created\n",
    "    from users\n",
    "        where created_at >= '2023-01-01 00:00:00' \n",
    "        and created_at < '2024-09-01 00:00:00'\n",
    "    group by created_year_month\n",
    "    order by created_year_month\n",
    ")\n",
    ", lagged_users as\n",
    "(\n",
    "    select created_year_month\n",
    "    , n_users_created \n",
    "    , lag(n_users_created, 12) over (order by created_year_month) as py_users_created\n",
    "    from monthly_users\n",
    ")\n",
    "select created_year_month \n",
    "    , n_users_created\n",
    "    , py_users_created\n",
    "    , round(100.0*(1.0*n_users_created/py_users_created - 1),1) as yoy_change\n",
    "from lagged_users\n",
    "where created_year_month >= '2024-01'\n",
    "order by created_year_month\n",
    ";\n",
    "''')\n",
    "\n",
    "cur.close \n",
    "conn.close\n",
    "\n",
    "tabulate.tabulate(cur.fetchall(), tablefmt='html', headers=[\"This Year\", \"Previous Year\", \"Percent Change\"])"
   ]
  }
 ],
 "metadata": {
  "kernelspec": {
   "display_name": ".venv",
   "language": "python",
   "name": "python3"
  },
  "language_info": {
   "codemirror_mode": {
    "name": "ipython",
    "version": 3
   },
   "file_extension": ".py",
   "mimetype": "text/x-python",
   "name": "python",
   "nbconvert_exporter": "python",
   "pygments_lexer": "ipython3",
   "version": "3.13.1"
  }
 },
 "nbformat": 4,
 "nbformat_minor": 2
}
