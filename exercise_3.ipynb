{
 "cells": [
  {
   "cell_type": "markdown",
   "metadata": {},
   "source": [
    "# Exercise 3\n",
    "Construct an email or slack message that is understandable to a product or business leader who is not familiar with your day-to-day work. Summarize the results of your investigation. Include:\n",
    "\n",
    "- Key data quality issues and outstanding questions about the data\n",
    "- One interesting trend in the data\n",
    "    - Use a finding from part 2 or come up with a new insight\n",
    "- Request for action: explain what additional help, info, etc. you need to make sense of the data and resolve any outstanding issues"
   ]
  },
  {
   "cell_type": "markdown",
   "metadata": {},
   "source": [
    "Stakeholder,\n",
    "\n",
    "I've completed my initial analysis of the data that you sent over. While I did find a positive trend in user growth, there's some serious data quality issues that need to be resolved before I'd trust any of my numbers. \n",
    "\n",
    "First, the good news. Based on the data you sent me, despite user growth being down ~50% year over year in January and Feburary of 2024, it began to even out in March through June. Then in July and August, user growth has been up ~50% year over year! Hopefully that trend will continue through the rest of 2024. \n",
    "\n",
    "However, there are some serious data quality issues with the data you sent over that make it difficult for me to provide further analysis. In addition, I'm not confident that the strong user growth is real and not an artifact of the data quality issues. I'll list out the key issues here:\n",
    "\n",
    "First, the User and Product data seems to be incomplete. The Transaction data has barcodes that are not in the Product data set and User IDs that are not in the User data set. The User data that I do have seems to be good (minus a few minor data quality issues that shouldn't affect analysis). However the Product data that was sent has some issues with missing barcodes and also with duplicate barcodes. I did my best to clean it up, but I'm not sure if it's a problem at the source or a problem with the data extraction. \n",
    "\n",
    "Last, the Transaction data has a lot of missing data around quantity and sale amount. I was able to work around that by looking at receipt counts, but that will limit my ability to provide insights around sales volume and pricing. \n",
    "\n",
    "Could you please put me in touch with the person who extracted the data from Fetch's systems? I'd like to collaborate with them to find out what is causing the missing data and what we can do resolve it.\n",
    "\n",
    "Best,\n",
    "\n",
    "Ed Corcoran"
   ]
  }
 ],
 "metadata": {
  "language_info": {
   "name": "python"
  }
 },
 "nbformat": 4,
 "nbformat_minor": 2
}
