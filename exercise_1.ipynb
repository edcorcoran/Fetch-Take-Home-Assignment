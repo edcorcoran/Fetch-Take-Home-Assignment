{
 "cells": [
  {
   "cell_type": "markdown",
   "metadata": {},
   "source": [
    "# Exercise 1\n",
    "Review the unstructured csv files and answer the following questions with code that supports your conclusions:"
   ]
  },
  {
   "cell_type": "code",
   "execution_count": 65,
   "metadata": {},
   "outputs": [
    {
     "data": {
      "text/plain": [
       "<function Connection.close()>"
      ]
     },
     "execution_count": 65,
     "metadata": {},
     "output_type": "execute_result"
    }
   ],
   "source": [
    "# Initial data ingestion\n",
    "\n",
    "import sqlite3\n",
    "import pandas as pd\n",
    "import tabulate\n",
    "\n",
    "conn = sqlite3.connect('fetch.sqlite')\n",
    "df = pd.read_csv('USER_TAKEHOME.csv')\n",
    "df.to_sql('users', conn, if_exists='replace', index=False)\n",
    "df = pd.read_csv('PRODUCTS_TAKEHOME.csv')\n",
    "df.to_sql('products', conn, if_exists='replace', index=False)\n",
    "df = pd.read_csv('TRANSACTION_TAKEHOME.csv')\n",
    "df.to_sql('transactions', conn, if_exists='replace', index=False)\n",
    "conn.close"
   ]
  },
  {
   "cell_type": "markdown",
   "metadata": {},
   "source": [
    "## 1. Users\n",
    "\n",
    "### Are there any data quality issues present?\n",
    "\n",
    "The largest data quality issue with the User data is not actually with the provided Users data; it is with the Transactions data. While there is a `user_id` for every row in Transactions, only a small number (91) of the `user_id`s exist in the `users` table. This will essentially prohibit transaction analysis from using user data and indicates that the user dataset is incomplete.\n",
    "\n",
    "However, overall, the Users data that was provided is of good quality. It has a unique `id` key and every entry has a valid `created_date`. There is 96% coverage for `birth_date`, 95% for `state`, 69% for `language` and 94% for `gender`. I will rename `id` to `user_id` because that's my prefered style for analysis tables.\n",
    "\n",
    "`created_date` is a proper timestamp terminating in a Z, which means it is in UTC.  I will rename `created_date` to `created_at` because it's a timestamp, not a date. \n",
    "\n",
    "`birth_date` is also stored as an UTC timestamp, but most of the values have no time component. However, some of the rows do have a time component. Many of those only have an hour component. My hypothesis is that this is an artifact of some database migration or an extract that converted timezones from local to UTC. If the original values were dates stored as timestamps, the conversation to UTC would have offset the values by some number of whole hours (or half hour for a few time zones.) However, there are some entries that have a minute and second component. I can only assume that was caused by some incorrect data collection process.  \n",
    "\n",
    "`gender` has options that appear to be duplicative, for example 'prefer_not_to_say' vs. 'Prefer not to say'. Looking at the creation timestamps for these values, it appears that the options offered have been added and removed over time. Based on the timestamps and the values, some of these values can be combined. However, I will be very cautious in doing so in order to respect what the users selected.\n",
    "\n",
    "The values 'male', 'female' and NULL all have entries created from 2014 through September 2024 (the maximum timestamp). The value 'transgender' first appears in 2017 and then stops in 2022. \n",
    "\n",
    "'prefer_not_to_say' first appears in 2015 and continues through the present. \"Prefer not to say\" only has one value on June of 2022. This may have been a bug where the display value was recorded rather than the standardized value. \n",
    "\n",
    "'non_binary' first appears in 2018 and continues through the present. 'Non-Binary' is only seen in May and June 2022, so that might be a similar or the same bug as above. \n",
    "\n",
    "'not_specified' only appears between December 2020 and January 2021. It appears to have been replaced by 'unknown', which only appears between January and August 2021. 'not_listed' first appears the following day in August 2021 and continues through the present, so it must have replaced 'unknown'. \"My gender isn't listed\" only appears between April and June of 2022, so it is likely the same bug as previously mentioned. \n",
    "\n",
    "Here's how I will modify the values stored in the gender column:\n",
    "* female: keep\n",
    "* male: keep\n",
    "* NULL: keep\n",
    "* transgender: keep\n",
    "* prefer_not_to_say: keep\n",
    "* Prefer not to say: merged into prefer_not_to_say\n",
    "* non_binary: keep\n",
    "* Non-Binary: merged into 'non_binary'\n",
    "* not_listed: keep\n",
    "* unknown: merged into not_listed\n",
    "* not_specified: merged into 'not_listed'\n",
    "* My gender isn't listed: merged into 'not_listed'\n",
    "\n",
    "The other columns have no issues. `state` contains all 50 states plus PR and DC, which is as expected. `language` is mostly 'en', but with a few 'es-419'. These are IETF language tags and mean \"English\" and \"Spanish appropriate for the Latin America and Caribbean region\". \n",
    "\n",
    "### Are there any fields that are challenging to understand?\n",
    "No, the fields are easy to understand and the minor data quality issues do not prevent that. "
   ]
  },
  {
   "cell_type": "code",
   "execution_count": null,
   "metadata": {},
   "outputs": [
    {
     "data": {
      "text/html": [
       "<table>\n",
       "<tbody>\n",
       "<tr><td style=\"text-align: right;\">100000</td><td style=\"text-align: right;\">100000</td><td style=\"text-align: right;\">100000</td><td style=\"text-align: right;\">96325</td><td style=\"text-align: right;\">95188</td><td style=\"text-align: right;\">69492</td><td style=\"text-align: right;\">94108</td></tr>\n",
       "</tbody>\n",
       "</table>"
      ],
      "text/plain": [
       "'<table>\\n<tbody>\\n<tr><td style=\"text-align: right;\">100000</td><td style=\"text-align: right;\">100000</td><td style=\"text-align: right;\">100000</td><td style=\"text-align: right;\">96325</td><td style=\"text-align: right;\">95188</td><td style=\"text-align: right;\">69492</td><td style=\"text-align: right;\">94108</td></tr>\\n</tbody>\\n</table>'"
      ]
     },
     "execution_count": 13,
     "metadata": {},
     "output_type": "execute_result"
    }
   ],
   "source": [
    "conn = sqlite3.connect('fetch.sqlite')\n",
    "cur = conn.cursor()\n",
    "\n",
    "# User data column coverage\n",
    "cur.execute('''\n",
    "select count(*) as n_rows\n",
    "    , count(distinct id) as n_users\n",
    "    , count(distinct case when created_date is not null then id else null end) as n_with_created_dates\n",
    "    , count(distinct case when birth_date is not null then id else null end) as n_with_birth_dates\n",
    "    , count(distinct case when state is not null then id else null end) as n_with_state\n",
    "    , count(distinct case when language is not null then id else null end) as n_with_language\n",
    "    , count(distinct case when gender is not null then id else null end) as n_with_gender\n",
    "from users\n",
    "''')\n",
    "\n",
    "tabulate.tabulate(cur.fetchall(), tablefmt='html')"
   ]
  },
  {
   "cell_type": "code",
   "execution_count": null,
   "metadata": {},
   "outputs": [
    {
     "data": {
      "text/html": [
       "<table>\n",
       "<tbody>\n",
       "<tr><td>TX</td><td style=\"text-align: right;\">9028</td></tr>\n",
       "<tr><td>FL</td><td style=\"text-align: right;\">8921</td></tr>\n",
       "<tr><td>CA</td><td style=\"text-align: right;\">8589</td></tr>\n",
       "<tr><td>NY</td><td style=\"text-align: right;\">5703</td></tr>\n",
       "<tr><td>  </td><td style=\"text-align: right;\">4812</td></tr>\n",
       "<tr><td>IL</td><td style=\"text-align: right;\">3794</td></tr>\n",
       "<tr><td>GA</td><td style=\"text-align: right;\">3718</td></tr>\n",
       "<tr><td>PA</td><td style=\"text-align: right;\">3644</td></tr>\n",
       "<tr><td>OH</td><td style=\"text-align: right;\">3519</td></tr>\n",
       "<tr><td>NC</td><td style=\"text-align: right;\">3399</td></tr>\n",
       "<tr><td>NJ</td><td style=\"text-align: right;\">2899</td></tr>\n",
       "<tr><td>MI</td><td style=\"text-align: right;\">2582</td></tr>\n",
       "<tr><td>VA</td><td style=\"text-align: right;\">2400</td></tr>\n",
       "<tr><td>IN</td><td style=\"text-align: right;\">2213</td></tr>\n",
       "<tr><td>TN</td><td style=\"text-align: right;\">2165</td></tr>\n",
       "<tr><td>AL</td><td style=\"text-align: right;\">1792</td></tr>\n",
       "<tr><td>SC</td><td style=\"text-align: right;\">1773</td></tr>\n",
       "<tr><td>KY</td><td style=\"text-align: right;\">1731</td></tr>\n",
       "<tr><td>AZ</td><td style=\"text-align: right;\">1728</td></tr>\n",
       "<tr><td>MO</td><td style=\"text-align: right;\">1652</td></tr>\n",
       "<tr><td>MD</td><td style=\"text-align: right;\">1636</td></tr>\n",
       "<tr><td>MA</td><td style=\"text-align: right;\">1523</td></tr>\n",
       "<tr><td>WI</td><td style=\"text-align: right;\">1389</td></tr>\n",
       "<tr><td>PR</td><td style=\"text-align: right;\">1361</td></tr>\n",
       "<tr><td>LA</td><td style=\"text-align: right;\">1290</td></tr>\n",
       "<tr><td>WA</td><td style=\"text-align: right;\">1234</td></tr>\n",
       "<tr><td>CO</td><td style=\"text-align: right;\">1139</td></tr>\n",
       "<tr><td>MN</td><td style=\"text-align: right;\">1125</td></tr>\n",
       "<tr><td>CT</td><td style=\"text-align: right;\">1110</td></tr>\n",
       "<tr><td>OK</td><td style=\"text-align: right;\">1100</td></tr>\n",
       "<tr><td>AR</td><td style=\"text-align: right;\">1011</td></tr>\n",
       "<tr><td>MS</td><td style=\"text-align: right;\"> 960</td></tr>\n",
       "<tr><td>IA</td><td style=\"text-align: right;\"> 933</td></tr>\n",
       "<tr><td>NV</td><td style=\"text-align: right;\"> 837</td></tr>\n",
       "<tr><td>KS</td><td style=\"text-align: right;\"> 835</td></tr>\n",
       "<tr><td>OR</td><td style=\"text-align: right;\"> 700</td></tr>\n",
       "<tr><td>WV</td><td style=\"text-align: right;\"> 674</td></tr>\n",
       "<tr><td>UT</td><td style=\"text-align: right;\"> 593</td></tr>\n",
       "<tr><td>DE</td><td style=\"text-align: right;\"> 492</td></tr>\n",
       "<tr><td>NE</td><td style=\"text-align: right;\"> 487</td></tr>\n",
       "<tr><td>NM</td><td style=\"text-align: right;\"> 452</td></tr>\n",
       "<tr><td>ME</td><td style=\"text-align: right;\"> 368</td></tr>\n",
       "<tr><td>NH</td><td style=\"text-align: right;\"> 359</td></tr>\n",
       "<tr><td>ID</td><td style=\"text-align: right;\"> 350</td></tr>\n",
       "<tr><td>HI</td><td style=\"text-align: right;\"> 350</td></tr>\n",
       "<tr><td>AK</td><td style=\"text-align: right;\"> 297</td></tr>\n",
       "<tr><td>RI</td><td style=\"text-align: right;\"> 284</td></tr>\n",
       "<tr><td>DC</td><td style=\"text-align: right;\"> 241</td></tr>\n",
       "<tr><td>SD</td><td style=\"text-align: right;\"> 205</td></tr>\n",
       "<tr><td>ND</td><td style=\"text-align: right;\"> 185</td></tr>\n",
       "<tr><td>MT</td><td style=\"text-align: right;\"> 169</td></tr>\n",
       "<tr><td>WY</td><td style=\"text-align: right;\"> 138</td></tr>\n",
       "<tr><td>VT</td><td style=\"text-align: right;\"> 111</td></tr>\n",
       "</tbody>\n",
       "</table>"
      ],
      "text/plain": [
       "'<table>\\n<tbody>\\n<tr><td>TX</td><td style=\"text-align: right;\">9028</td></tr>\\n<tr><td>FL</td><td style=\"text-align: right;\">8921</td></tr>\\n<tr><td>CA</td><td style=\"text-align: right;\">8589</td></tr>\\n<tr><td>NY</td><td style=\"text-align: right;\">5703</td></tr>\\n<tr><td>  </td><td style=\"text-align: right;\">4812</td></tr>\\n<tr><td>IL</td><td style=\"text-align: right;\">3794</td></tr>\\n<tr><td>GA</td><td style=\"text-align: right;\">3718</td></tr>\\n<tr><td>PA</td><td style=\"text-align: right;\">3644</td></tr>\\n<tr><td>OH</td><td style=\"text-align: right;\">3519</td></tr>\\n<tr><td>NC</td><td style=\"text-align: right;\">3399</td></tr>\\n<tr><td>NJ</td><td style=\"text-align: right;\">2899</td></tr>\\n<tr><td>MI</td><td style=\"text-align: right;\">2582</td></tr>\\n<tr><td>VA</td><td style=\"text-align: right;\">2400</td></tr>\\n<tr><td>IN</td><td style=\"text-align: right;\">2213</td></tr>\\n<tr><td>TN</td><td style=\"text-align: right;\">2165</td></tr>\\n<tr><td>AL</td><td style=\"text-align: right;\">1792</td></tr>\\n<tr><td>SC</td><td style=\"text-align: right;\">1773</td></tr>\\n<tr><td>KY</td><td style=\"text-align: right;\">1731</td></tr>\\n<tr><td>AZ</td><td style=\"text-align: right;\">1728</td></tr>\\n<tr><td>MO</td><td style=\"text-align: right;\">1652</td></tr>\\n<tr><td>MD</td><td style=\"text-align: right;\">1636</td></tr>\\n<tr><td>MA</td><td style=\"text-align: right;\">1523</td></tr>\\n<tr><td>WI</td><td style=\"text-align: right;\">1389</td></tr>\\n<tr><td>PR</td><td style=\"text-align: right;\">1361</td></tr>\\n<tr><td>LA</td><td style=\"text-align: right;\">1290</td></tr>\\n<tr><td>WA</td><td style=\"text-align: right;\">1234</td></tr>\\n<tr><td>CO</td><td style=\"text-align: right;\">1139</td></tr>\\n<tr><td>MN</td><td style=\"text-align: right;\">1125</td></tr>\\n<tr><td>CT</td><td style=\"text-align: right;\">1110</td></tr>\\n<tr><td>OK</td><td style=\"text-align: right;\">1100</td></tr>\\n<tr><td>AR</td><td style=\"text-align: right;\">1011</td></tr>\\n<tr><td>MS</td><td style=\"text-align: right;\"> 960</td></tr>\\n<tr><td>IA</td><td style=\"text-align: right;\"> 933</td></tr>\\n<tr><td>NV</td><td style=\"text-align: right;\"> 837</td></tr>\\n<tr><td>KS</td><td style=\"text-align: right;\"> 835</td></tr>\\n<tr><td>OR</td><td style=\"text-align: right;\"> 700</td></tr>\\n<tr><td>WV</td><td style=\"text-align: right;\"> 674</td></tr>\\n<tr><td>UT</td><td style=\"text-align: right;\"> 593</td></tr>\\n<tr><td>DE</td><td style=\"text-align: right;\"> 492</td></tr>\\n<tr><td>NE</td><td style=\"text-align: right;\"> 487</td></tr>\\n<tr><td>NM</td><td style=\"text-align: right;\"> 452</td></tr>\\n<tr><td>ME</td><td style=\"text-align: right;\"> 368</td></tr>\\n<tr><td>NH</td><td style=\"text-align: right;\"> 359</td></tr>\\n<tr><td>ID</td><td style=\"text-align: right;\"> 350</td></tr>\\n<tr><td>HI</td><td style=\"text-align: right;\"> 350</td></tr>\\n<tr><td>AK</td><td style=\"text-align: right;\"> 297</td></tr>\\n<tr><td>RI</td><td style=\"text-align: right;\"> 284</td></tr>\\n<tr><td>DC</td><td style=\"text-align: right;\"> 241</td></tr>\\n<tr><td>SD</td><td style=\"text-align: right;\"> 205</td></tr>\\n<tr><td>ND</td><td style=\"text-align: right;\"> 185</td></tr>\\n<tr><td>MT</td><td style=\"text-align: right;\"> 169</td></tr>\\n<tr><td>WY</td><td style=\"text-align: right;\"> 138</td></tr>\\n<tr><td>VT</td><td style=\"text-align: right;\"> 111</td></tr>\\n</tbody>\\n</table>'"
      ]
     },
     "execution_count": 4,
     "metadata": {},
     "output_type": "execute_result"
    }
   ],
   "source": [
    "# state counts\n",
    "cur.execute('''\n",
    "select state, count(*) from users group by state order by count(*) desc\n",
    "''')\n",
    "\n",
    "tabulate.tabulate(cur.fetchall(), tablefmt='html')"
   ]
  },
  {
   "cell_type": "code",
   "execution_count": null,
   "metadata": {},
   "outputs": [
    {
     "data": {
      "text/html": [
       "<table>\n",
       "<tbody>\n",
       "<tr><td style=\"text-align: right;\">52</td></tr>\n",
       "</tbody>\n",
       "</table>"
      ],
      "text/plain": [
       "'<table>\\n<tbody>\\n<tr><td style=\"text-align: right;\">52</td></tr>\\n</tbody>\\n</table>'"
      ]
     },
     "execution_count": 5,
     "metadata": {},
     "output_type": "execute_result"
    }
   ],
   "source": [
    "# number of states\n",
    "cur.execute('''\n",
    "select count(distinct state) from users\n",
    "''')\n",
    "\n",
    "tabulate.tabulate(cur.fetchall(), tablefmt='html')"
   ]
  },
  {
   "cell_type": "code",
   "execution_count": null,
   "metadata": {},
   "outputs": [
    {
     "data": {
      "text/html": [
       "<table>\n",
       "<tbody>\n",
       "<tr><td>en    </td><td style=\"text-align: right;\">63403</td></tr>\n",
       "<tr><td>      </td><td style=\"text-align: right;\">30508</td></tr>\n",
       "<tr><td>es-419</td><td style=\"text-align: right;\"> 6089</td></tr>\n",
       "</tbody>\n",
       "</table>"
      ],
      "text/plain": [
       "'<table>\\n<tbody>\\n<tr><td>en    </td><td style=\"text-align: right;\">63403</td></tr>\\n<tr><td>      </td><td style=\"text-align: right;\">30508</td></tr>\\n<tr><td>es-419</td><td style=\"text-align: right;\"> 6089</td></tr>\\n</tbody>\\n</table>'"
      ]
     },
     "execution_count": 6,
     "metadata": {},
     "output_type": "execute_result"
    }
   ],
   "source": [
    "# language counts\n",
    "cur.execute('''\n",
    "select language, count(*) from users group by language order by count(*) desc\n",
    "''')\n",
    "\n",
    "tabulate.tabulate(cur.fetchall(), tablefmt='html')"
   ]
  },
  {
   "cell_type": "code",
   "execution_count": null,
   "metadata": {},
   "outputs": [
    {
     "data": {
      "text/html": [
       "<table>\n",
       "<tbody>\n",
       "<tr><td>female                </td><td style=\"text-align: right;\">64240</td><td>2014-07-09 01:24:05.000 Z</td><td>2024-09-11 17:58:04.000 Z</td></tr>\n",
       "<tr><td>male                  </td><td style=\"text-align: right;\">25829</td><td>2014-09-09 22:03:56.000 Z</td><td>2024-09-11 17:56:53.000 Z</td></tr>\n",
       "<tr><td>                      </td><td style=\"text-align: right;\"> 5892</td><td>2014-04-18 23:14:55.000 Z</td><td>2024-09-11 17:59:15.000 Z</td></tr>\n",
       "<tr><td>transgender           </td><td style=\"text-align: right;\"> 1772</td><td>2017-03-05 19:37:20.000 Z</td><td>2022-08-06 21:07:23.000 Z</td></tr>\n",
       "<tr><td>prefer_not_to_say     </td><td style=\"text-align: right;\"> 1350</td><td>2015-07-23 22:28:51.000 Z</td><td>2024-09-11 17:52:47.000 Z</td></tr>\n",
       "<tr><td>non_binary            </td><td style=\"text-align: right;\">  473</td><td>2018-11-28 23:02:36.000 Z</td><td>2024-09-11 17:53:02.000 Z</td></tr>\n",
       "<tr><td>unknown               </td><td style=\"text-align: right;\">  196</td><td>2021-01-12 19:03:07.000 Z</td><td>2021-08-27 03:47:51.000 Z</td></tr>\n",
       "<tr><td>not_listed            </td><td style=\"text-align: right;\">  180</td><td>2021-08-28 22:23:02.000 Z</td><td>2024-09-09 04:18:00.000 Z</td></tr>\n",
       "<tr><td>Non-Binary            </td><td style=\"text-align: right;\">   34</td><td>2022-05-15 22:17:26.000 Z</td><td>2022-06-19 13:44:09.000 Z</td></tr>\n",
       "<tr><td>not_specified         </td><td style=\"text-align: right;\">   28</td><td>2020-12-15 16:06:04.000 Z</td><td>2021-01-23 00:02:40.000 Z</td></tr>\n",
       "<tr><td>My gender isn&#x27;t listed</td><td style=\"text-align: right;\">    5</td><td>2022-04-02 00:47:40.000 Z</td><td>2022-06-20 22:56:27.000 Z</td></tr>\n",
       "<tr><td>Prefer not to say     </td><td style=\"text-align: right;\">    1</td><td>2022-06-20 18:34:28.000 Z</td><td>2022-06-20 18:34:28.000 Z</td></tr>\n",
       "</tbody>\n",
       "</table>"
      ],
      "text/plain": [
       "'<table>\\n<tbody>\\n<tr><td>female                </td><td style=\"text-align: right;\">64240</td><td>2014-07-09 01:24:05.000 Z</td><td>2024-09-11 17:58:04.000 Z</td></tr>\\n<tr><td>male                  </td><td style=\"text-align: right;\">25829</td><td>2014-09-09 22:03:56.000 Z</td><td>2024-09-11 17:56:53.000 Z</td></tr>\\n<tr><td>                      </td><td style=\"text-align: right;\"> 5892</td><td>2014-04-18 23:14:55.000 Z</td><td>2024-09-11 17:59:15.000 Z</td></tr>\\n<tr><td>transgender           </td><td style=\"text-align: right;\"> 1772</td><td>2017-03-05 19:37:20.000 Z</td><td>2022-08-06 21:07:23.000 Z</td></tr>\\n<tr><td>prefer_not_to_say     </td><td style=\"text-align: right;\"> 1350</td><td>2015-07-23 22:28:51.000 Z</td><td>2024-09-11 17:52:47.000 Z</td></tr>\\n<tr><td>non_binary            </td><td style=\"text-align: right;\">  473</td><td>2018-11-28 23:02:36.000 Z</td><td>2024-09-11 17:53:02.000 Z</td></tr>\\n<tr><td>unknown               </td><td style=\"text-align: right;\">  196</td><td>2021-01-12 19:03:07.000 Z</td><td>2021-08-27 03:47:51.000 Z</td></tr>\\n<tr><td>not_listed            </td><td style=\"text-align: right;\">  180</td><td>2021-08-28 22:23:02.000 Z</td><td>2024-09-09 04:18:00.000 Z</td></tr>\\n<tr><td>Non-Binary            </td><td style=\"text-align: right;\">   34</td><td>2022-05-15 22:17:26.000 Z</td><td>2022-06-19 13:44:09.000 Z</td></tr>\\n<tr><td>not_specified         </td><td style=\"text-align: right;\">   28</td><td>2020-12-15 16:06:04.000 Z</td><td>2021-01-23 00:02:40.000 Z</td></tr>\\n<tr><td>My gender isn&#x27;t listed</td><td style=\"text-align: right;\">    5</td><td>2022-04-02 00:47:40.000 Z</td><td>2022-06-20 22:56:27.000 Z</td></tr>\\n<tr><td>Prefer not to say     </td><td style=\"text-align: right;\">    1</td><td>2022-06-20 18:34:28.000 Z</td><td>2022-06-20 18:34:28.000 Z</td></tr>\\n</tbody>\\n</table>'"
      ]
     },
     "execution_count": 8,
     "metadata": {},
     "output_type": "execute_result"
    }
   ],
   "source": [
    "# gender counts and first/last creation dates\n",
    "cur.execute('''\n",
    "select gender, count(*), min(created_date), max(created_date) from users group by gender order by count(*) desc\n",
    "''')\n",
    "\n",
    "tabulate.tabulate(cur.fetchall(), tablefmt='html')"
   ]
  },
  {
   "cell_type": "code",
   "execution_count": null,
   "metadata": {},
   "outputs": [
    {
     "data": {
      "text/html": [
       "<table>\n",
       "<tbody>\n",
       "<tr><td>invalid user</td><td style=\"text-align: right;\">49738</td><td style=\"text-align: right;\">17603</td></tr>\n",
       "<tr><td>valid user  </td><td style=\"text-align: right;\">  262</td><td style=\"text-align: right;\">   91</td></tr>\n",
       "</tbody>\n",
       "</table>"
      ],
      "text/plain": [
       "'<table>\\n<tbody>\\n<tr><td>invalid user</td><td style=\"text-align: right;\">49738</td><td style=\"text-align: right;\">17603</td></tr>\\n<tr><td>valid user  </td><td style=\"text-align: right;\">  262</td><td style=\"text-align: right;\">   91</td></tr>\\n</tbody>\\n</table>'"
      ]
     },
     "execution_count": 15,
     "metadata": {},
     "output_type": "execute_result"
    }
   ],
   "source": [
    "# valid/invalid user counts\n",
    "cur.execute('''\n",
    "select case when u.id is not null then 'valid user' else 'invalid user' end as user_flag\n",
    ", count(*) as n_rows\n",
    ", count(distinct t.user_id) as n_users\n",
    "from transactions as t\n",
    "    left join users u on t.user_id = u.id\n",
    "where t.user_id is not null\n",
    "group by user_flag\n",
    "''')\n",
    "\n",
    "cur.close\n",
    "conn.close\n",
    "\n",
    "tabulate.tabulate(cur.fetchall(), tablefmt='html')\n"
   ]
  },
  {
   "cell_type": "markdown",
   "metadata": {},
   "source": [
    "\n",
    "## 2. Products\n",
    "\n",
    "### Are there any data quality issues present?\n",
    "\n",
    "The product data has several major data quality issues. First, and like the User data, it appears to be incomplete relative to the Transactions data. Only 56% of the Transactions with a value for `barcode` have a value that is listed in the Product data. This indicates that either there are a lot of low quality barcode entries in Transactions that are not validated against the Product data or that the Product data is incomplete. It also means that any analysis of Transactions data that joins it with Products will be giving an incomplete view. \n",
    "\n",
    "A small number (4,025 or 0.5%) of the product entries have a NULL value for `barcode`, which means they cannot be joined to Transactions. `barcode` is also not a unique identifier. There are 841,527 rows with a non-NULL barcode but only 841,342 unique barcodes. So it's a very small number of duplicate rows (185) but its enough to be a problem when joining the data. For my analysis, I will create a de-duplicated version of the Product data with no duplicates or NULL barcodes. \n",
    "\n",
    "Most of the duplicates are simple duplicates. However, I did see a few that had spelling differences or had \"Placeholder Manufacturer\" on one entry and the real manufacturer on the other. My de-duplication is pretty simple but a better version could be done that preferences real names over placeholder names. \n",
    "\n",
    "The rest of the columns seem fine. Category 1 & 2 data is largely complete with only 111 rows having no Category 1 value out of a total of 845,552 rows. For Category 2, 1,424 have no value. Category 3 is less complete with 60,566 rows with no value (7% of the total). Category 4 is almost never used with only 67,459 row (8%) having a value. \n",
    "\n",
    "In addition, 99% of the rows are in the top two Category 1 values: Health & Wellness and Snacks. This reinforces my suspicion that the Product data is incomplete. \n",
    "\n",
    "Manufacturer is on 73% of rows. The most common Manufacturer is 'Placeholder Manufacturer' which makes up 14% of Manufacturer values. Brand is also on 73% of rows. The most common Brand is 'REM BRAND' which makes up 3% of Manufacturer values. 'Brand Not Known' is the second most common brand and also makes up 3%.\n",
    "\n",
    "### Are there any fields that are challenging to understand?\n",
    "\n",
    "No, the fields make sense. My only confusion is why there are duplicate and missing barcodes and why Category 4 is blank on so many entries. "
   ]
  },
  {
   "cell_type": "code",
   "execution_count": 18,
   "metadata": {},
   "outputs": [],
   "source": [
    "conn = sqlite3.connect('fetch.sqlite')\n",
    "cur = conn.cursor()"
   ]
  },
  {
   "cell_type": "code",
   "execution_count": null,
   "metadata": {},
   "outputs": [
    {
     "data": {
      "text/html": [
       "<table>\n",
       "<tbody>\n",
       "<tr><td>barcode in products    </td><td style=\"text-align: right;\">24854</td></tr>\n",
       "<tr><td>barcode not in products</td><td style=\"text-align: right;\">19408</td></tr>\n",
       "</tbody>\n",
       "</table>"
      ],
      "text/plain": [
       "'<table>\\n<tbody>\\n<tr><td>barcode in products    </td><td style=\"text-align: right;\">24854</td></tr>\\n<tr><td>barcode not in products</td><td style=\"text-align: right;\">19408</td></tr>\\n</tbody>\\n</table>'"
      ]
     },
     "execution_count": 19,
     "metadata": {},
     "output_type": "execute_result"
    }
   ],
   "source": [
    "# valid/invalid barcodes\n",
    "cur.execute('''\n",
    "select case when p.barcode is not null then 'barcode in products' else 'barcode not in products' end as barcode_flag\n",
    ", count(*) as n_rows\n",
    "from transactions as t\n",
    "    left join products p on t.barcode = p.barcode\n",
    "where t.barcode is not null\n",
    "group by barcode_flag\n",
    "''')\n",
    "tabulate.tabulate(cur.fetchall(), tablefmt='html')\n"
   ]
  },
  {
   "cell_type": "code",
   "execution_count": null,
   "metadata": {},
   "outputs": [
    {
     "data": {
      "text/html": [
       "<table>\n",
       "<tbody>\n",
       "<tr><td>barcode   </td><td style=\"text-align: right;\">841527</td></tr>\n",
       "<tr><td>no barcode</td><td style=\"text-align: right;\">  4025</td></tr>\n",
       "</tbody>\n",
       "</table>"
      ],
      "text/plain": [
       "'<table>\\n<tbody>\\n<tr><td>barcode   </td><td style=\"text-align: right;\">841527</td></tr>\\n<tr><td>no barcode</td><td style=\"text-align: right;\">  4025</td></tr>\\n</tbody>\\n</table>'"
      ]
     },
     "execution_count": 21,
     "metadata": {},
     "output_type": "execute_result"
    }
   ],
   "source": [
    "# count of rows with/without barcodes\n",
    "cur.execute('''\n",
    "select case when barcode is not null then 'barcode' else 'no barcode' end as barcode_flag\n",
    ", count(*) as n_rows\n",
    "from products\n",
    "group by barcode_flag\n",
    "''')\n",
    "tabulate.tabulate(cur.fetchall(), tablefmt='html')"
   ]
  },
  {
   "cell_type": "code",
   "execution_count": 66,
   "metadata": {},
   "outputs": [
    {
     "data": {
      "text/html": [
       "<table>\n",
       "<tbody>\n",
       "<tr><td style=\"text-align: right;\">400510</td><td>MARS WRIGLEY            </td><td>STARBURST      </td><td>Snacks</td><td>Candy                   </td><td>Confection Candy</td><td></td></tr>\n",
       "<tr><td style=\"text-align: right;\">400510</td><td>MARS WRIGLEY            </td><td>STARBURST      </td><td>Snacks</td><td>Candy                   </td><td>Confection Candy</td><td></td></tr>\n",
       "<tr><td style=\"text-align: right;\">404310</td><td>PLACEHOLDER MANUFACTURER</td><td>BRAND NOT KNOWN</td><td>Snacks</td><td>Candy                   </td><td>Chocolate Candy </td><td></td></tr>\n",
       "<tr><td style=\"text-align: right;\">404310</td><td>MARS WRIGLEY            </td><td>M&amp;M&#x27;S          </td><td>Snacks</td><td>Candy                   </td><td>Chocolate Candy </td><td></td></tr>\n",
       "<tr><td style=\"text-align: right;\">438711</td><td>TRADER JOE&#x27;S            </td><td>TRADER JOE&#x27;S   </td><td>Snacks</td><td>Crackers                </td><td>Graham Crackers </td><td></td></tr>\n",
       "<tr><td style=\"text-align: right;\">438711</td><td>TRADER JOE&#x27;S            </td><td>TRADER JOE&#x27;S   </td><td>Snacks</td><td>Crackers                </td><td>Graham Crackers </td><td></td></tr>\n",
       "<tr><td style=\"text-align: right;\">563178</td><td>TRADER JOE&#x27;S            </td><td>TRADER JOE&#x27;S   </td><td>Snacks</td><td>Fruit &amp; Vegetable Snacks</td><td>Dried Vegetables</td><td></td></tr>\n",
       "<tr><td style=\"text-align: right;\">563178</td><td>TRADER JOE&#x27;S            </td><td>TRADER JOE&#x27;S   </td><td>Snacks</td><td>Fruit &amp; Vegetable Snacks</td><td>Dried Vegetables</td><td></td></tr>\n",
       "<tr><td style=\"text-align: right;\">603898</td><td>TRADER JOE&#x27;S            </td><td>TRADER JOE&#x27;S   </td><td>Snacks</td><td>Nuts &amp; Seeds            </td><td>Cashews         </td><td></td></tr>\n",
       "<tr><td style=\"text-align: right;\">603898</td><td>TRADER JOE&#x27;S            </td><td>TRADER JOE&#x27;S   </td><td>Snacks</td><td>Nuts &amp; Seeds            </td><td>Cashews         </td><td></td></tr>\n",
       "<tr><td style=\"text-align: right;\">701983</td><td>SUNRIDGE FARMS          </td><td>SUNRIDGE FARMS </td><td>Snacks</td><td>Nuts &amp; Seeds            </td><td>Snack Seeds     </td><td></td></tr>\n",
       "<tr><td style=\"text-align: right;\">701983</td><td>TRADER JOE&#x27;S            </td><td>TRADER JOE&#x27;S   </td><td>Snacks</td><td>Chips                   </td><td>Crisps          </td><td></td></tr>\n",
       "<tr><td style=\"text-align: right;\">853743</td><td>TRADER JOE&#x27;S            </td><td>TRADER JOE&#x27;S   </td><td>Snacks</td><td>Fruit &amp; Vegetable Snacks</td><td>Dried Vegetables</td><td></td></tr>\n",
       "<tr><td style=\"text-align: right;\">853743</td><td>TRADER JOE&#x27;S            </td><td>TRADER JOE&#x27;S   </td><td>Snacks</td><td>Fruit &amp; Vegetable Snacks</td><td>Dried Vegetables</td><td></td></tr>\n",
       "<tr><td style=\"text-align: right;\">906425</td><td>TRADER JOE&#x27;S            </td><td>TRADER JOE&#x27;S   </td><td>Snacks</td><td>Dips &amp; Salsa            </td><td>Hummus          </td><td></td></tr>\n",
       "<tr><td style=\"text-align: right;\">906425</td><td>TRADER JOE&#x27;S            </td><td>TRADER JOE&#x27;S   </td><td>Snacks</td><td>Dips &amp; Salsa            </td><td>Hummus          </td><td></td></tr>\n",
       "<tr><td style=\"text-align: right;\">952811</td><td>TRADER JOE&#x27;S            </td><td>TRADER JOE&#x27;S   </td><td>Snacks</td><td>Chips                   </td><td>Crisps          </td><td></td></tr>\n",
       "<tr><td style=\"text-align: right;\">952811</td><td>TRADER JOE&#x27;S            </td><td>TRADER JOE&#x27;S   </td><td>Snacks</td><td>Chips                   </td><td>Crisps          </td><td></td></tr>\n",
       "<tr><td style=\"text-align: right;\">969307</td><td>TRADER JOE&#x27;S            </td><td>TRADER JOE&#x27;S   </td><td>Snacks</td><td>Nuts &amp; Seeds            </td><td>Covered Nuts    </td><td></td></tr>\n",
       "<tr><td style=\"text-align: right;\">969307</td><td>TRADER JOE&#x27;S            </td><td>TRADER JOE&#x27;S   </td><td>Snacks</td><td>Nuts &amp; Seeds            </td><td>Almonds         </td><td></td></tr>\n",
       "</tbody>\n",
       "</table>"
      ],
      "text/plain": [
       "'<table>\\n<tbody>\\n<tr><td style=\"text-align: right;\">400510</td><td>MARS WRIGLEY            </td><td>STARBURST      </td><td>Snacks</td><td>Candy                   </td><td>Confection Candy</td><td></td></tr>\\n<tr><td style=\"text-align: right;\">400510</td><td>MARS WRIGLEY            </td><td>STARBURST      </td><td>Snacks</td><td>Candy                   </td><td>Confection Candy</td><td></td></tr>\\n<tr><td style=\"text-align: right;\">404310</td><td>PLACEHOLDER MANUFACTURER</td><td>BRAND NOT KNOWN</td><td>Snacks</td><td>Candy                   </td><td>Chocolate Candy </td><td></td></tr>\\n<tr><td style=\"text-align: right;\">404310</td><td>MARS WRIGLEY            </td><td>M&amp;M&#x27;S          </td><td>Snacks</td><td>Candy                   </td><td>Chocolate Candy </td><td></td></tr>\\n<tr><td style=\"text-align: right;\">438711</td><td>TRADER JOE&#x27;S            </td><td>TRADER JOE&#x27;S   </td><td>Snacks</td><td>Crackers                </td><td>Graham Crackers </td><td></td></tr>\\n<tr><td style=\"text-align: right;\">438711</td><td>TRADER JOE&#x27;S            </td><td>TRADER JOE&#x27;S   </td><td>Snacks</td><td>Crackers                </td><td>Graham Crackers </td><td></td></tr>\\n<tr><td style=\"text-align: right;\">563178</td><td>TRADER JOE&#x27;S            </td><td>TRADER JOE&#x27;S   </td><td>Snacks</td><td>Fruit &amp; Vegetable Snacks</td><td>Dried Vegetables</td><td></td></tr>\\n<tr><td style=\"text-align: right;\">563178</td><td>TRADER JOE&#x27;S            </td><td>TRADER JOE&#x27;S   </td><td>Snacks</td><td>Fruit &amp; Vegetable Snacks</td><td>Dried Vegetables</td><td></td></tr>\\n<tr><td style=\"text-align: right;\">603898</td><td>TRADER JOE&#x27;S            </td><td>TRADER JOE&#x27;S   </td><td>Snacks</td><td>Nuts &amp; Seeds            </td><td>Cashews         </td><td></td></tr>\\n<tr><td style=\"text-align: right;\">603898</td><td>TRADER JOE&#x27;S            </td><td>TRADER JOE&#x27;S   </td><td>Snacks</td><td>Nuts &amp; Seeds            </td><td>Cashews         </td><td></td></tr>\\n<tr><td style=\"text-align: right;\">701983</td><td>SUNRIDGE FARMS          </td><td>SUNRIDGE FARMS </td><td>Snacks</td><td>Nuts &amp; Seeds            </td><td>Snack Seeds     </td><td></td></tr>\\n<tr><td style=\"text-align: right;\">701983</td><td>TRADER JOE&#x27;S            </td><td>TRADER JOE&#x27;S   </td><td>Snacks</td><td>Chips                   </td><td>Crisps          </td><td></td></tr>\\n<tr><td style=\"text-align: right;\">853743</td><td>TRADER JOE&#x27;S            </td><td>TRADER JOE&#x27;S   </td><td>Snacks</td><td>Fruit &amp; Vegetable Snacks</td><td>Dried Vegetables</td><td></td></tr>\\n<tr><td style=\"text-align: right;\">853743</td><td>TRADER JOE&#x27;S            </td><td>TRADER JOE&#x27;S   </td><td>Snacks</td><td>Fruit &amp; Vegetable Snacks</td><td>Dried Vegetables</td><td></td></tr>\\n<tr><td style=\"text-align: right;\">906425</td><td>TRADER JOE&#x27;S            </td><td>TRADER JOE&#x27;S   </td><td>Snacks</td><td>Dips &amp; Salsa            </td><td>Hummus          </td><td></td></tr>\\n<tr><td style=\"text-align: right;\">906425</td><td>TRADER JOE&#x27;S            </td><td>TRADER JOE&#x27;S   </td><td>Snacks</td><td>Dips &amp; Salsa            </td><td>Hummus          </td><td></td></tr>\\n<tr><td style=\"text-align: right;\">952811</td><td>TRADER JOE&#x27;S            </td><td>TRADER JOE&#x27;S   </td><td>Snacks</td><td>Chips                   </td><td>Crisps          </td><td></td></tr>\\n<tr><td style=\"text-align: right;\">952811</td><td>TRADER JOE&#x27;S            </td><td>TRADER JOE&#x27;S   </td><td>Snacks</td><td>Chips                   </td><td>Crisps          </td><td></td></tr>\\n<tr><td style=\"text-align: right;\">969307</td><td>TRADER JOE&#x27;S            </td><td>TRADER JOE&#x27;S   </td><td>Snacks</td><td>Nuts &amp; Seeds            </td><td>Covered Nuts    </td><td></td></tr>\\n<tr><td style=\"text-align: right;\">969307</td><td>TRADER JOE&#x27;S            </td><td>TRADER JOE&#x27;S   </td><td>Snacks</td><td>Nuts &amp; Seeds            </td><td>Almonds         </td><td></td></tr>\\n</tbody>\\n</table>'"
      ]
     },
     "execution_count": 66,
     "metadata": {},
     "output_type": "execute_result"
    }
   ],
   "source": [
    "# rows with duplicate barcodes\n",
    "cur.execute('''\n",
    "with products_rn as \n",
    "        (\n",
    "        select barcode, manufacturer, brand, category_1, category_2, category_3, category_4\n",
    "        , count() over (partition by barcode) as dupe_count\n",
    "        from products\n",
    "        where barcode is not null\n",
    "        )\n",
    "    select barcode, manufacturer, brand, category_1, category_2, category_3, category_4\n",
    "    from products_rn\n",
    "    where dupe_count > 1\n",
    "    limit 20\n",
    "''')\n",
    "tabulate.tabulate(cur.fetchall(), tablefmt='html')"
   ]
  },
  {
   "cell_type": "code",
   "execution_count": null,
   "metadata": {},
   "outputs": [
    {
     "data": {
      "text/html": [
       "<table>\n",
       "<tbody>\n",
       "<tr><td style=\"text-align: right;\">845552</td><td style=\"text-align: right;\">841342</td><td style=\"text-align: right;\">841527</td><td style=\"text-align: right;\">845441</td><td style=\"text-align: right;\">844128</td><td style=\"text-align: right;\">784986</td><td style=\"text-align: right;\">67459</td><td style=\"text-align: right;\">619080</td><td style=\"text-align: right;\">619078</td></tr>\n",
       "</tbody>\n",
       "</table>"
      ],
      "text/plain": [
       "'<table>\\n<tbody>\\n<tr><td style=\"text-align: right;\">845552</td><td style=\"text-align: right;\">841342</td><td style=\"text-align: right;\">841527</td><td style=\"text-align: right;\">845441</td><td style=\"text-align: right;\">844128</td><td style=\"text-align: right;\">784986</td><td style=\"text-align: right;\">67459</td><td style=\"text-align: right;\">619080</td><td style=\"text-align: right;\">619078</td></tr>\\n</tbody>\\n</table>'"
      ]
     },
     "execution_count": 26,
     "metadata": {},
     "output_type": "execute_result"
    }
   ],
   "source": [
    "# column data coverage\n",
    "cur.execute('''\n",
    "select count(*) as n_rows\n",
    "    , count(distinct barcode) as n_barcodes\n",
    "    , sum(case when barcode is not null then 1 else 0 end) n_with_barcodes\n",
    "    , sum(case when category_1 is not null then 1 else 0 end) n_with_category_1\n",
    "    , sum(case when category_2 is not null then 1 else 0 end) n_with_category_2\n",
    "    , sum(case when category_3 is not null then 1 else 0 end) n_with_category_3\n",
    "    , sum(case when category_4 is not null then 1 else 0 end) n_with_category_4\n",
    "    , sum(case when brand is not null then 1 else 0 end) n_with_brand\n",
    "    , sum(case when manufacturer is not null then 1 else 0 end) n_with_manufacturer\n",
    "from products\n",
    "''')\n",
    "tabulate.tabulate(cur.fetchall(), tablefmt='html')"
   ]
  },
  {
   "cell_type": "code",
   "execution_count": null,
   "metadata": {},
   "outputs": [
    {
     "data": {
      "text/html": [
       "<table>\n",
       "<tbody>\n",
       "<tr><td>Health &amp; Wellness    </td><td style=\"text-align: right;\">512695</td></tr>\n",
       "<tr><td>Snacks               </td><td style=\"text-align: right;\">324817</td></tr>\n",
       "<tr><td>Beverages            </td><td style=\"text-align: right;\">  3990</td></tr>\n",
       "<tr><td>Pantry               </td><td style=\"text-align: right;\">   871</td></tr>\n",
       "<tr><td>Apparel &amp; Accessories</td><td style=\"text-align: right;\">   846</td></tr>\n",
       "<tr><td>Dairy                </td><td style=\"text-align: right;\">   602</td></tr>\n",
       "<tr><td>Needs Review         </td><td style=\"text-align: right;\">   547</td></tr>\n",
       "<tr><td>Alcohol              </td><td style=\"text-align: right;\">   503</td></tr>\n",
       "<tr><td>Home &amp; Garden        </td><td style=\"text-align: right;\">   115</td></tr>\n",
       "<tr><td>Restaurant           </td><td style=\"text-align: right;\">    69</td></tr>\n",
       "</tbody>\n",
       "</table>"
      ],
      "text/plain": [
       "'<table>\\n<tbody>\\n<tr><td>Health &amp; Wellness    </td><td style=\"text-align: right;\">512695</td></tr>\\n<tr><td>Snacks               </td><td style=\"text-align: right;\">324817</td></tr>\\n<tr><td>Beverages            </td><td style=\"text-align: right;\">  3990</td></tr>\\n<tr><td>Pantry               </td><td style=\"text-align: right;\">   871</td></tr>\\n<tr><td>Apparel &amp; Accessories</td><td style=\"text-align: right;\">   846</td></tr>\\n<tr><td>Dairy                </td><td style=\"text-align: right;\">   602</td></tr>\\n<tr><td>Needs Review         </td><td style=\"text-align: right;\">   547</td></tr>\\n<tr><td>Alcohol              </td><td style=\"text-align: right;\">   503</td></tr>\\n<tr><td>Home &amp; Garden        </td><td style=\"text-align: right;\">   115</td></tr>\\n<tr><td>Restaurant           </td><td style=\"text-align: right;\">    69</td></tr>\\n</tbody>\\n</table>'"
      ]
     },
     "execution_count": 27,
     "metadata": {},
     "output_type": "execute_result"
    }
   ],
   "source": [
    "# top category\n",
    "cur.execute('''\n",
    "select category_1\n",
    "    , count(*)\n",
    "from products\n",
    "    where category_1 is not null\n",
    "group by category_1\n",
    "order by count(*) desc\n",
    "limit 10\n",
    "''')\n",
    "tabulate.tabulate(cur.fetchall(), tablefmt='html')"
   ]
  },
  {
   "cell_type": "code",
   "execution_count": null,
   "metadata": {},
   "outputs": [
    {
     "data": {
      "text/html": [
       "<table>\n",
       "<tbody>\n",
       "<tr><td>REM BRAND      </td><td style=\"text-align: right;\">20813</td></tr>\n",
       "<tr><td>BRAND NOT KNOWN</td><td style=\"text-align: right;\">17025</td></tr>\n",
       "<tr><td>PRIVATE LABEL  </td><td style=\"text-align: right;\">13467</td></tr>\n",
       "<tr><td>CVS            </td><td style=\"text-align: right;\"> 6400</td></tr>\n",
       "<tr><td>SEGO           </td><td style=\"text-align: right;\"> 4831</td></tr>\n",
       "<tr><td>MEIJER         </td><td style=\"text-align: right;\"> 4050</td></tr>\n",
       "<tr><td>DOVE           </td><td style=\"text-align: right;\"> 3857</td></tr>\n",
       "<tr><td>RITE AID       </td><td style=\"text-align: right;\"> 3238</td></tr>\n",
       "<tr><td>MATRIX         </td><td style=\"text-align: right;\"> 2958</td></tr>\n",
       "<tr><td>EQUATE         </td><td style=\"text-align: right;\"> 2946</td></tr>\n",
       "</tbody>\n",
       "</table>"
      ],
      "text/plain": [
       "'<table>\\n<tbody>\\n<tr><td>REM BRAND      </td><td style=\"text-align: right;\">20813</td></tr>\\n<tr><td>BRAND NOT KNOWN</td><td style=\"text-align: right;\">17025</td></tr>\\n<tr><td>PRIVATE LABEL  </td><td style=\"text-align: right;\">13467</td></tr>\\n<tr><td>CVS            </td><td style=\"text-align: right;\"> 6400</td></tr>\\n<tr><td>SEGO           </td><td style=\"text-align: right;\"> 4831</td></tr>\\n<tr><td>MEIJER         </td><td style=\"text-align: right;\"> 4050</td></tr>\\n<tr><td>DOVE           </td><td style=\"text-align: right;\"> 3857</td></tr>\\n<tr><td>RITE AID       </td><td style=\"text-align: right;\"> 3238</td></tr>\\n<tr><td>MATRIX         </td><td style=\"text-align: right;\"> 2958</td></tr>\\n<tr><td>EQUATE         </td><td style=\"text-align: right;\"> 2946</td></tr>\\n</tbody>\\n</table>'"
      ]
     },
     "execution_count": 29,
     "metadata": {},
     "output_type": "execute_result"
    }
   ],
   "source": [
    "# top brands\n",
    "cur.execute('''\n",
    "select brand\n",
    "    , count(*)\n",
    "from products\n",
    "    where brand is not null\n",
    "group by brand\n",
    "order by count(*) desc\n",
    "limit 10\n",
    "''')\n",
    "tabulate.tabulate(cur.fetchall(), tablefmt='html')"
   ]
  },
  {
   "cell_type": "code",
   "execution_count": null,
   "metadata": {},
   "outputs": [
    {
     "data": {
      "text/html": [
       "<table>\n",
       "<tbody>\n",
       "<tr><td>PLACEHOLDER MANUFACTURER</td><td style=\"text-align: right;\">86902</td></tr>\n",
       "<tr><td>PROCTER &amp; GAMBLE        </td><td style=\"text-align: right;\">21065</td></tr>\n",
       "<tr><td>REM MANUFACTURER        </td><td style=\"text-align: right;\">20813</td></tr>\n",
       "<tr><td>UNILEVER                </td><td style=\"text-align: right;\">16864</td></tr>\n",
       "<tr><td>L&#x27;OREAL                 </td><td style=\"text-align: right;\">16699</td></tr>\n",
       "<tr><td>PEPSICO                 </td><td style=\"text-align: right;\">14468</td></tr>\n",
       "<tr><td>JOHNSON &amp; JOHNSON       </td><td style=\"text-align: right;\">10443</td></tr>\n",
       "<tr><td>THE HERSHEY COMPANY     </td><td style=\"text-align: right;\">10222</td></tr>\n",
       "<tr><td>MARS WRIGLEY            </td><td style=\"text-align: right;\"> 9732</td></tr>\n",
       "<tr><td>MONDELĒZ INTERNATIONAL  </td><td style=\"text-align: right;\"> 7250</td></tr>\n",
       "</tbody>\n",
       "</table>"
      ],
      "text/plain": [
       "'<table>\\n<tbody>\\n<tr><td>PLACEHOLDER MANUFACTURER</td><td style=\"text-align: right;\">86902</td></tr>\\n<tr><td>PROCTER &amp; GAMBLE        </td><td style=\"text-align: right;\">21065</td></tr>\\n<tr><td>REM MANUFACTURER        </td><td style=\"text-align: right;\">20813</td></tr>\\n<tr><td>UNILEVER                </td><td style=\"text-align: right;\">16864</td></tr>\\n<tr><td>L&#x27;OREAL                 </td><td style=\"text-align: right;\">16699</td></tr>\\n<tr><td>PEPSICO                 </td><td style=\"text-align: right;\">14468</td></tr>\\n<tr><td>JOHNSON &amp; JOHNSON       </td><td style=\"text-align: right;\">10443</td></tr>\\n<tr><td>THE HERSHEY COMPANY     </td><td style=\"text-align: right;\">10222</td></tr>\\n<tr><td>MARS WRIGLEY            </td><td style=\"text-align: right;\"> 9732</td></tr>\\n<tr><td>MONDELĒZ INTERNATIONAL  </td><td style=\"text-align: right;\"> 7250</td></tr>\\n</tbody>\\n</table>'"
      ]
     },
     "execution_count": 28,
     "metadata": {},
     "output_type": "execute_result"
    }
   ],
   "source": [
    "# top manufacturers\n",
    "cur.execute('''\n",
    "select manufacturer\n",
    "    , count(*)\n",
    "from products\n",
    "    where manufacturer is not null\n",
    "group by manufacturer\n",
    "order by count(*) desc\n",
    "limit 10\n",
    "''')\n",
    "tabulate.tabulate(cur.fetchall(), tablefmt='html')"
   ]
  },
  {
   "cell_type": "code",
   "execution_count": 30,
   "metadata": {},
   "outputs": [
    {
     "data": {
      "text/plain": [
       "<function Connection.close()>"
      ]
     },
     "execution_count": 30,
     "metadata": {},
     "output_type": "execute_result"
    }
   ],
   "source": [
    "cur.close\n",
    "conn.close"
   ]
  },
  {
   "cell_type": "markdown",
   "metadata": {},
   "source": [
    "## 3. Transactions\n",
    "\n",
    "### Are there any data quality issues present?\n",
    "\n",
    "As previously mentioned, the Transactions data contains values for `barcode` that are not seen in the Product data set and values for `user_id` that are not seen in the Users data.\n",
    "\n",
    "There is no unique key for the Transactions data. There are 50,000 rows but only 24,440 unique values for `receipt_id` which means that the average `receipt_id` appears 2.04 times. There is also no line item ID to go along with the receipt ID. \n",
    "\n",
    "Only 88% of rows have a value for `barcode`, which further limits the ability to combine Transactions data with Product data for analysis. \n",
    "\n",
    "However, there is 100% data coverage for the other columns: `purchase_date`, `scan_date`, `store` and `user_id`. \n",
    "\n",
    "`scan_date` is actually a timestamp, so I will rename it to `scan_at`. \n",
    "\n",
    "Transactions are all scanned between June 12th and September 8th of 2024. Purchase dates are all in the same date range. The purchase date is often the same day as the scan, but not always. Scan is usually after purchase, but not always. I'd assume that the purchase date is manually entered by the customer and the scan date is machine generated (ie when a receipt is scanned in).\n",
    "\n",
    "Walmart is by far the most common store, with 40% of the entries. However, there is a very long tail. \n",
    "\n",
    "### Are there any fields that are challenging to understand?\n",
    "\n",
    "Yes. `receipt_id` appears to be a \"basket\" ID but I hesitate to assume that since there's no matching ID for line items. \n",
    "\n",
    "The columns `final_quantity` and `final_sale` and how they interact is very confusing. `final_quantity` is a float value between 0.01 and 276, unless it has the string value of 'zero'. If `final_quantity` is 'zero', then there is always a `final_sale` value which is a float between 0 and a maximum value of 462.82. However, if `final_quantity`has a float value, `final_sale` can still have it's own float value. But it can also be empty with a value of ' ' (not NULL or ''). \n",
    "\n",
    "Of the 50K total rows, 37,500 have a valid non-zero value for `final_quantity` and 12,500 have 'zero'. Of the 37,500 with a valid quantity, 12,500 have a blank sale and the remaining 25,000 have a valid sale. So half of the rows have valid values for both quantity and sale, a quarter are missing one and a quarter are missing the other. This indicates to me that there is something artificial or constructed about the values I'm seeing for `final_quantity` and `final_sale`. \n",
    "\n",
    "Due to these issues, I will replace the 'zero' and ' ' values with NULL. "
   ]
  },
  {
   "cell_type": "code",
   "execution_count": null,
   "metadata": {},
   "outputs": [],
   "source": [
    "conn = sqlite3.connect('fetch.sqlite')\n",
    "cur = conn.cursor()"
   ]
  },
  {
   "cell_type": "code",
   "execution_count": null,
   "metadata": {},
   "outputs": [
    {
     "data": {
      "text/html": [
       "<table>\n",
       "<tbody>\n",
       "<tr><td style=\"text-align: right;\">44238</td></tr>\n",
       "</tbody>\n",
       "</table>"
      ],
      "text/plain": [
       "'<table>\\n<tbody>\\n<tr><td style=\"text-align: right;\">44238</td></tr>\\n</tbody>\\n</table>'"
      ]
     },
     "execution_count": 36,
     "metadata": {},
     "output_type": "execute_result"
    }
   ],
   "source": [
    "# rows with a barcode\n",
    "cur.execute('''\n",
    "select count(*) as n_rows\n",
    "from transactions as t\n",
    "where t.barcode is not null\n",
    "''')\n",
    "\n",
    "tabulate.tabulate(cur.fetchall(), tablefmt='html')"
   ]
  },
  {
   "cell_type": "code",
   "execution_count": null,
   "metadata": {},
   "outputs": [
    {
     "data": {
      "text/html": [
       "<table>\n",
       "<tbody>\n",
       "<tr><td style=\"text-align: right;\">50000</td><td style=\"text-align: right;\">24440</td><td style=\"text-align: right;\">50000</td><td style=\"text-align: right;\">50000</td><td style=\"text-align: right;\">50000</td><td style=\"text-align: right;\">50000</td><td style=\"text-align: right;\">44238</td></tr>\n",
       "</tbody>\n",
       "</table>"
      ],
      "text/plain": [
       "'<table>\\n<tbody>\\n<tr><td style=\"text-align: right;\">50000</td><td style=\"text-align: right;\">24440</td><td style=\"text-align: right;\">50000</td><td style=\"text-align: right;\">50000</td><td style=\"text-align: right;\">50000</td><td style=\"text-align: right;\">50000</td><td style=\"text-align: right;\">44238</td></tr>\\n</tbody>\\n</table>'"
      ]
     },
     "execution_count": 33,
     "metadata": {},
     "output_type": "execute_result"
    }
   ],
   "source": [
    "# column summary\n",
    "cur.execute('''\n",
    "select count(*) as n_rows\n",
    "    , count(distinct receipt_id) as n_receipts\n",
    "    , count(case when purchase_date is not null then receipt_id else null end) as n_with_purchase_dates\n",
    "    , count(case when scan_date is not null then receipt_id else null end) as n_with_scan_dates\n",
    "    , count(case when store_name is not null then receipt_id else null end) as n_with_store_name\n",
    "    , count(case when user_id is not null then receipt_id else null end) as n_with_user_id\n",
    "    , count(case when barcode is not null then receipt_id else null end) as n_with_barcode\n",
    "from transactions\n",
    "''')\n",
    "tabulate.tabulate(cur.fetchall(), tablefmt='html')"
   ]
  },
  {
   "cell_type": "code",
   "execution_count": 34,
   "metadata": {},
   "outputs": [
    {
     "data": {
      "text/html": [
       "<table>\n",
       "<tbody>\n",
       "<tr><td>2024-06-12 06:36:34.910 Z</td><td>2024-09-08 23:07:19.836 Z</td><td>2024-06-12</td><td>2024-09-08</td></tr>\n",
       "</tbody>\n",
       "</table>"
      ],
      "text/plain": [
       "'<table>\\n<tbody>\\n<tr><td>2024-06-12 06:36:34.910 Z</td><td>2024-09-08 23:07:19.836 Z</td><td>2024-06-12</td><td>2024-09-08</td></tr>\\n</tbody>\\n</table>'"
      ]
     },
     "execution_count": 34,
     "metadata": {},
     "output_type": "execute_result"
    }
   ],
   "source": [
    "# look at time period for data\n",
    "cur.execute('''\n",
    "select min(scan_date), max(scan_date), min(purchase_date), max(purchase_date)\n",
    "from transactions\n",
    "''')\n",
    "tabulate.tabulate(cur.fetchall(), tablefmt='html')"
   ]
  },
  {
   "cell_type": "code",
   "execution_count": null,
   "metadata": {},
   "outputs": [
    {
     "data": {
      "text/html": [
       "<table>\n",
       "<tbody>\n",
       "<tr><td style=\"text-align: right;\">94</td></tr>\n",
       "</tbody>\n",
       "</table>"
      ],
      "text/plain": [
       "'<table>\\n<tbody>\\n<tr><td style=\"text-align: right;\">94</td></tr>\\n</tbody>\\n</table>'"
      ]
     },
     "execution_count": 35,
     "metadata": {},
     "output_type": "execute_result"
    }
   ],
   "source": [
    "# scans before purchase date\n",
    "cur.execute('''\n",
    "select count(*)\n",
    "from transactions\n",
    "where date(scan_date) < purchase_date\n",
    "''')\n",
    "tabulate.tabulate(cur.fetchall(), tablefmt='html')"
   ]
  },
  {
   "cell_type": "code",
   "execution_count": null,
   "metadata": {},
   "outputs": [
    {
     "data": {
      "text/html": [
       "<table>\n",
       "<tbody>\n",
       "<tr><td style=\"text-align: right;\">0</td><td style=\"text-align: right;\">462.82</td></tr>\n",
       "</tbody>\n",
       "</table>"
      ],
      "text/plain": [
       "'<table>\\n<tbody>\\n<tr><td style=\"text-align: right;\">0</td><td style=\"text-align: right;\">462.82</td></tr>\\n</tbody>\\n</table>'"
      ]
     },
     "execution_count": 41,
     "metadata": {},
     "output_type": "execute_result"
    }
   ],
   "source": [
    "# min/max values of final sale\n",
    "cur.execute('''\n",
    "select min(cast(final_sale as decimal)), max(cast(final_sale as decimal))\n",
    "from transactions\n",
    "where final_sale <> ' '\n",
    "''')\n",
    "\n",
    "tabulate.tabulate(cur.fetchall(), tablefmt='html')"
   ]
  },
  {
   "cell_type": "code",
   "execution_count": 42,
   "metadata": {},
   "outputs": [
    {
     "data": {
      "text/html": [
       "<table>\n",
       "<tbody>\n",
       "<tr><td style=\"text-align: right;\">0.01</td><td style=\"text-align: right;\">276</td></tr>\n",
       "</tbody>\n",
       "</table>"
      ],
      "text/plain": [
       "'<table>\\n<tbody>\\n<tr><td style=\"text-align: right;\">0.01</td><td style=\"text-align: right;\">276</td></tr>\\n</tbody>\\n</table>'"
      ]
     },
     "execution_count": 42,
     "metadata": {},
     "output_type": "execute_result"
    }
   ],
   "source": [
    "# min/max values of final quantity\n",
    "cur.execute('''\n",
    "select min(cast(final_quantity as decimal)), max(cast(final_quantity as decimal))\n",
    "from transactions\n",
    "where final_quantity <> 'zero'\n",
    "''')\n",
    "\n",
    "tabulate.tabulate(cur.fetchall(), tablefmt='html')"
   ]
  },
  {
   "cell_type": "code",
   "execution_count": 67,
   "metadata": {},
   "outputs": [
    {
     "data": {
      "text/plain": [
       "''"
      ]
     },
     "execution_count": 67,
     "metadata": {},
     "output_type": "execute_result"
    }
   ],
   "source": [
    "#final_quantity values when final_sale = ' '\n",
    "\n",
    "cur.execute('''\n",
    "select final_quantity, count(*) as n_rows\n",
    "from transactions\n",
    "where final_sale = ' '\n",
    "group by final_quantity order by final_sale asc\n",
    "limit 20\n",
    "''')\n",
    "\n",
    "tabulate.tabulate(cur.fetchall(), tablefmt='html')"
   ]
  },
  {
   "cell_type": "code",
   "execution_count": 68,
   "metadata": {},
   "outputs": [
    {
     "data": {
      "text/plain": [
       "''"
      ]
     },
     "execution_count": 68,
     "metadata": {},
     "output_type": "execute_result"
    }
   ],
   "source": [
    "#final_sale values when final_quantity = 'zero'\n",
    "\n",
    "cur.execute('''\n",
    "select final_sale, count(*) as n_rows\n",
    "from transactions\n",
    "where final_quantity = 'zero'\n",
    "group by final_sale order by final_sale asc\n",
    "limit 20\n",
    "''')\n",
    "\n",
    "tabulate.tabulate(cur.fetchall(), tablefmt='html')\n"
   ]
  },
  {
   "cell_type": "code",
   "execution_count": 51,
   "metadata": {},
   "outputs": [
    {
     "data": {
      "text/html": [
       "<table>\n",
       "<tbody>\n",
       "<tr><td>valid quantity</td><td style=\"text-align: right;\">37500</td></tr>\n",
       "<tr><td>zero quantity </td><td style=\"text-align: right;\">12500</td></tr>\n",
       "</tbody>\n",
       "</table>"
      ],
      "text/plain": [
       "'<table>\\n<tbody>\\n<tr><td>valid quantity</td><td style=\"text-align: right;\">37500</td></tr>\\n<tr><td>zero quantity </td><td style=\"text-align: right;\">12500</td></tr>\\n</tbody>\\n</table>'"
      ]
     },
     "execution_count": 51,
     "metadata": {},
     "output_type": "execute_result"
    }
   ],
   "source": [
    "# frequency of blank quantity\n",
    "cur.execute('''\n",
    "select case when final_quantity = 'zero' then 'zero quantity' else 'valid quantity' end as zero_flag\n",
    ", count(*) as n_rows\n",
    "from transactions\n",
    "group by zero_flag\n",
    "''')\n",
    "\n",
    "tabulate.tabulate(cur.fetchall(), tablefmt='html')"
   ]
  },
  {
   "cell_type": "code",
   "execution_count": 50,
   "metadata": {},
   "outputs": [
    {
     "data": {
      "text/html": [
       "<table>\n",
       "<tbody>\n",
       "<tr><td>valid sale and valid quantity</td><td style=\"text-align: right;\">25000</td></tr>\n",
       "<tr><td>valid sale and blank quantity</td><td style=\"text-align: right;\">12500</td></tr>\n",
       "<tr><td>blank sale, valid quantity   </td><td style=\"text-align: right;\">12500</td></tr>\n",
       "</tbody>\n",
       "</table>"
      ],
      "text/plain": [
       "'<table>\\n<tbody>\\n<tr><td>valid sale and valid quantity</td><td style=\"text-align: right;\">25000</td></tr>\\n<tr><td>valid sale and blank quantity</td><td style=\"text-align: right;\">12500</td></tr>\\n<tr><td>blank sale, valid quantity   </td><td style=\"text-align: right;\">12500</td></tr>\\n</tbody>\\n</table>'"
      ]
     },
     "execution_count": 50,
     "metadata": {},
     "output_type": "execute_result"
    }
   ],
   "source": [
    "\n",
    "cur.execute('''\n",
    "select \n",
    "    case \n",
    "        when final_sale = ' ' and final_quantity = 'zero' then 'blank quantity and blank sale'  -- shouldn't ever exist\n",
    "        when final_sale = ' ' and final_quantity <> 'zero' then 'blank sale, valid quantity' \n",
    "        when final_sale <> ' ' and final_quantity = 'zero' then 'valid sale and blank quantity' \n",
    "        when final_sale <> ' ' and final_quantity <> 'zero' then 'valid sale and valid quantity' \n",
    "        else 'not blank sale' end as sale_flag\n",
    ", count(*) as n_rows\n",
    "from transactions\n",
    "group by sale_flag\n",
    "order by n_rows desc\n",
    "''')\n",
    "\n",
    "tabulate.tabulate(cur.fetchall(), tablefmt='html')"
   ]
  },
  {
   "cell_type": "code",
   "execution_count": 52,
   "metadata": {},
   "outputs": [
    {
     "data": {
      "text/plain": [
       "<function Connection.close()>"
      ]
     },
     "execution_count": 52,
     "metadata": {},
     "output_type": "execute_result"
    }
   ],
   "source": [
    "cur.close\n",
    "conn.close"
   ]
  },
  {
   "cell_type": "markdown",
   "metadata": {},
   "source": [
    "## Data Cleanup & Transformation Steps"
   ]
  },
  {
   "cell_type": "code",
   "execution_count": 64,
   "metadata": {},
   "outputs": [
    {
     "data": {
      "text/plain": [
       "<function Connection.close()>"
      ]
     },
     "execution_count": 64,
     "metadata": {},
     "output_type": "execute_result"
    }
   ],
   "source": [
    "conn = sqlite3.connect('fetch.sqlite')\n",
    "cur = conn.cursor()\n",
    "# Products\n",
    "# Create a clean table\n",
    "\n",
    "cur.execute('''\n",
    "create table products_clean as \n",
    "    with products_rn as \n",
    "        (\n",
    "        select barcode, manufacturer, brand, category_1, category_2, category_3, category_4\n",
    "        , row_number() over (partition by barcode order by category_1 nulls last, category_2 nulls last, category_3 nulls last) as barcode_rn\n",
    "        from products\n",
    "        where barcode is not null\n",
    "        )\n",
    "    select barcode, manufacturer, brand, category_1, category_2, category_3, category_4\n",
    "    from products_rn\n",
    "    where barcode_rn = 1;\n",
    "''')\n",
    "\n",
    "# Users\n",
    "\n",
    "# rename created_date to created_at because it's a timestamp, not a date\n",
    "cur.execute('''\n",
    "alter table users rename column created_date to created_at;\n",
    "''')\n",
    "\n",
    "# rename `id` to `user_id` because that's my prefered style for analysis tables\n",
    "cur.execute('''\n",
    "alter table users rename column id to user_id;\n",
    "''')\n",
    "\n",
    "# map values for gender\n",
    "cur.execute('''\n",
    "update users set gender = 'not_listed' where gender='unknown';\n",
    "''')\n",
    "cur.execute('''\n",
    "update users set gender = 'not_listed' where gender='not_specified';\n",
    "''')\n",
    "cur.execute('''\n",
    "update users set gender = 'not_listed' where gender='My gender isn''t listed';\n",
    "''')\n",
    "cur.execute('''\n",
    "update users set gender = 'non_binary' where gender='Non-Binary';\n",
    "''')\n",
    "cur.execute('''\n",
    "update users set gender = 'prefer_not_to_say' where gender='Prefer not to say';\n",
    "''')\n",
    "\n",
    "# Transactions \n",
    "\n",
    "# rename scan_date to scan_at because it's a timestamp, not a date\n",
    "cur.execute('''\n",
    "alter table transactions rename column scan_date to scan_at;\n",
    "''')\n",
    "\n",
    "# replace final_quantity = 'zero' with NULL\n",
    "cur.execute('''\n",
    "update transactions set final_quantity = NULL where final_quantity = 'zero';\n",
    "''')\n",
    "\n",
    "# replace final_sale = ' ' with NULL\n",
    "cur.execute('''\n",
    "update transactions set final_sale = NULL where final_sale = ' ';\n",
    "''')\n",
    "\n",
    "cur.close\n",
    "conn.close"
   ]
  }
 ],
 "metadata": {
  "kernelspec": {
   "display_name": ".venv",
   "language": "python",
   "name": "python3"
  },
  "language_info": {
   "codemirror_mode": {
    "name": "ipython",
    "version": 3
   },
   "file_extension": ".py",
   "mimetype": "text/x-python",
   "name": "python",
   "nbconvert_exporter": "python",
   "pygments_lexer": "ipython3",
   "version": "3.13.1"
  }
 },
 "nbformat": 4,
 "nbformat_minor": 2
}
