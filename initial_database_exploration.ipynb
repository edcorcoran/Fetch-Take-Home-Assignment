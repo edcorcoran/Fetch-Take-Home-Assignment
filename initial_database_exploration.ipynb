{
 "cells": [
  {
   "cell_type": "markdown",
   "metadata": {},
   "source": [
    "Import all packages"
   ]
  },
  {
   "cell_type": "code",
   "execution_count": 2,
   "metadata": {},
   "outputs": [],
   "source": [
    "import sqlite3\n",
    "import pandas as pd\n",
    "import tabulate\n",
    "# import numpy as np\n",
    "# import matplotlib.pyplot as plt"
   ]
  },
  {
   "cell_type": "markdown",
   "metadata": {},
   "source": [
    "Turn the CSV files into SQLlite database tables"
   ]
  },
  {
   "cell_type": "code",
   "execution_count": 35,
   "metadata": {},
   "outputs": [
    {
     "data": {
      "text/plain": [
       "<function Connection.close()>"
      ]
     },
     "execution_count": 35,
     "metadata": {},
     "output_type": "execute_result"
    }
   ],
   "source": [
    "conn = sqlite3.connect('fetch.sqlite')\n",
    "df = pd.read_csv('USER_TAKEHOME.csv')\n",
    "df.to_sql('users', conn, if_exists='replace', index=False)\n",
    "df = pd.read_csv('PRODUCTS_TAKEHOME.csv')\n",
    "df.to_sql('products', conn, if_exists='replace', index=False)\n",
    "df = pd.read_csv('TRANSACTION_TAKEHOME.csv')\n",
    "df.to_sql('transactions', conn, if_exists='replace', index=False)\n",
    "conn.close"
   ]
  },
  {
   "cell_type": "markdown",
   "metadata": {},
   "source": [
    "Check data quality and cleanup the databases where necessary"
   ]
  },
  {
   "cell_type": "code",
   "execution_count": 5,
   "metadata": {},
   "outputs": [
    {
     "data": {
      "text/html": [
       "<table>\n",
       "<tbody>\n",
       "<tr><td>female                </td><td style=\"text-align: right;\">64240</td><td>2014-07-09 01:24:05.000 Z</td><td>2024-09-11 17:58:04.000 Z</td></tr>\n",
       "<tr><td>male                  </td><td style=\"text-align: right;\">25829</td><td>2014-09-09 22:03:56.000 Z</td><td>2024-09-11 17:56:53.000 Z</td></tr>\n",
       "<tr><td>                      </td><td style=\"text-align: right;\"> 5892</td><td>2014-04-18 23:14:55.000 Z</td><td>2024-09-11 17:59:15.000 Z</td></tr>\n",
       "<tr><td>transgender           </td><td style=\"text-align: right;\"> 1772</td><td>2017-03-05 19:37:20.000 Z</td><td>2022-08-06 21:07:23.000 Z</td></tr>\n",
       "<tr><td>prefer_not_to_say     </td><td style=\"text-align: right;\"> 1350</td><td>2015-07-23 22:28:51.000 Z</td><td>2024-09-11 17:52:47.000 Z</td></tr>\n",
       "<tr><td>non_binary            </td><td style=\"text-align: right;\">  473</td><td>2018-11-28 23:02:36.000 Z</td><td>2024-09-11 17:53:02.000 Z</td></tr>\n",
       "<tr><td>unknown               </td><td style=\"text-align: right;\">  196</td><td>2021-01-12 19:03:07.000 Z</td><td>2021-08-27 03:47:51.000 Z</td></tr>\n",
       "<tr><td>not_listed            </td><td style=\"text-align: right;\">  180</td><td>2021-08-28 22:23:02.000 Z</td><td>2024-09-09 04:18:00.000 Z</td></tr>\n",
       "<tr><td>Non-Binary            </td><td style=\"text-align: right;\">   34</td><td>2022-05-15 22:17:26.000 Z</td><td>2022-06-19 13:44:09.000 Z</td></tr>\n",
       "<tr><td>not_specified         </td><td style=\"text-align: right;\">   28</td><td>2020-12-15 16:06:04.000 Z</td><td>2021-01-23 00:02:40.000 Z</td></tr>\n",
       "<tr><td>My gender isn&#x27;t listed</td><td style=\"text-align: right;\">    5</td><td>2022-04-02 00:47:40.000 Z</td><td>2022-06-20 22:56:27.000 Z</td></tr>\n",
       "<tr><td>Prefer not to say     </td><td style=\"text-align: right;\">    1</td><td>2022-06-20 18:34:28.000 Z</td><td>2022-06-20 18:34:28.000 Z</td></tr>\n",
       "</tbody>\n",
       "</table>"
      ],
      "text/plain": [
       "'<table>\\n<tbody>\\n<tr><td>female                </td><td style=\"text-align: right;\">64240</td><td>2014-07-09 01:24:05.000 Z</td><td>2024-09-11 17:58:04.000 Z</td></tr>\\n<tr><td>male                  </td><td style=\"text-align: right;\">25829</td><td>2014-09-09 22:03:56.000 Z</td><td>2024-09-11 17:56:53.000 Z</td></tr>\\n<tr><td>                      </td><td style=\"text-align: right;\"> 5892</td><td>2014-04-18 23:14:55.000 Z</td><td>2024-09-11 17:59:15.000 Z</td></tr>\\n<tr><td>transgender           </td><td style=\"text-align: right;\"> 1772</td><td>2017-03-05 19:37:20.000 Z</td><td>2022-08-06 21:07:23.000 Z</td></tr>\\n<tr><td>prefer_not_to_say     </td><td style=\"text-align: right;\"> 1350</td><td>2015-07-23 22:28:51.000 Z</td><td>2024-09-11 17:52:47.000 Z</td></tr>\\n<tr><td>non_binary            </td><td style=\"text-align: right;\">  473</td><td>2018-11-28 23:02:36.000 Z</td><td>2024-09-11 17:53:02.000 Z</td></tr>\\n<tr><td>unknown               </td><td style=\"text-align: right;\">  196</td><td>2021-01-12 19:03:07.000 Z</td><td>2021-08-27 03:47:51.000 Z</td></tr>\\n<tr><td>not_listed            </td><td style=\"text-align: right;\">  180</td><td>2021-08-28 22:23:02.000 Z</td><td>2024-09-09 04:18:00.000 Z</td></tr>\\n<tr><td>Non-Binary            </td><td style=\"text-align: right;\">   34</td><td>2022-05-15 22:17:26.000 Z</td><td>2022-06-19 13:44:09.000 Z</td></tr>\\n<tr><td>not_specified         </td><td style=\"text-align: right;\">   28</td><td>2020-12-15 16:06:04.000 Z</td><td>2021-01-23 00:02:40.000 Z</td></tr>\\n<tr><td>My gender isn&#x27;t listed</td><td style=\"text-align: right;\">    5</td><td>2022-04-02 00:47:40.000 Z</td><td>2022-06-20 22:56:27.000 Z</td></tr>\\n<tr><td>Prefer not to say     </td><td style=\"text-align: right;\">    1</td><td>2022-06-20 18:34:28.000 Z</td><td>2022-06-20 18:34:28.000 Z</td></tr>\\n</tbody>\\n</table>'"
      ]
     },
     "execution_count": 5,
     "metadata": {},
     "output_type": "execute_result"
    }
   ],
   "source": [
    "conn = sqlite3.connect('fetch.sqlite')\n",
    "cur = conn.cursor()\n",
    "\n",
    "#Users\n",
    "cur.execute('''\n",
    "select count(*) as n_rows\n",
    "    , count(distinct id) as n_users\n",
    "    , count(distinct case when created_date is not null then id else null end) as n_with_created_dates\n",
    "    , count(distinct case when birth_date is not null then id else null end) as n_with_birth_dates\n",
    "    , count(distinct case when state is not null then id else null end) as n_with_state\n",
    "    , count(distinct case when language is not null then id else null end) as n_with_language\n",
    "    , count(distinct case when gender is not null then id else null end) as n_with_gender\n",
    "from users\n",
    "''')\n",
    "\n",
    "cur.execute('''\n",
    "select state, count(*) from users group by state order by count(*) desc\n",
    "''')\n",
    "\n",
    "cur.execute('''\n",
    "select count(distinct state) from users\n",
    "''')\n",
    "\n",
    "cur.execute('''\n",
    "select language, count(*) from users group by language order by count(*) desc\n",
    "''')\n",
    "\n",
    "cur.execute('''\n",
    "select gender, count(*), min(created_date), max(created_date) from users group by gender order by count(*) desc\n",
    "''')\n",
    "\n",
    "tabulate.tabulate(cur.fetchall(), tablefmt='html')\n"
   ]
  },
  {
   "cell_type": "markdown",
   "metadata": {},
   "source": [
    "Users has a unique ID and every entry has a created_date. 96% coverage for birth dates. 95% for state. 69% for language and 94% for gender.\n",
    "\n",
    "Dates are stored as text. I'd normally transform them to timestamps, but sqlite has no native date format and using strings is standard.\n",
    "\n",
    "Birth Date is stored as a timestamp, but most of the values have no time component. However, some do. For now, I'll just leave this as is.\n",
    "\n",
    "State contains all 50 states plus PR and DC\n",
    "\n",
    "Language is mostly 'en', but with a few 'es-419'. These are IETF language tags and mean \"English\" and \"Spanish appropriate for the Latin America and Caribbean region\"\n",
    "\n",
    "Gender has multiple options: female, male, transgender, prefer_not_to_say, non_binary, unknown, not_listed, Non-Binary, \n",
    "not_specified, \"My gender isn't listed\" and 'Prefer not to say'. It appears that options have been added and removed. 'male', 'female' and NULL all have entries created from 2014 through September 2024 (max timestamp). 'transgender' first appears in 2017 and then stops in 2022. 'prefer_not_to_say' first appears in 2015 and continues through the present. 'non_binary' first appears in 2018 and continues through the present. 'unknown' only appears between January and August 2021. 'not_listed' first appears the following day in August 2021 and continues through the present, so it must have replaced 'unknown'. 'Non-Binary' is only seen in May and June 2022, so that might be a bug that was fixed where the value was being recorded as 'Non-Binary' instead of 'non-binary'. 'not_specified' only appears between December 2020 and January 2021, so that appears to have been replaced by 'unknown'. \"My gender isn't listed\" only appears between April and June of 2022. \"Prefer not to say\" only has one value on June of 2022. \n",
    "\n",
    "Here's how I will modify the values stored in the gender column:\n",
    "* female: keep\n",
    "* male: keep\n",
    "* NULL: keep\n",
    "* transgender: keep\n",
    "* prefer_not_to_say: keep\n",
    "* non_binary: keep\n",
    "* unknown: merged into not_listed\n",
    "* not_listed: keep\n",
    "* Non-Binary: merged into 'non_binary'\n",
    "* not_specified: merged into 'not_listed'\n",
    "* My gender isn't listed: merged into 'not_listed'\n",
    "* Prefer not to say: merged into prefer_not_to_say\n"
   ]
  },
  {
   "cell_type": "code",
   "execution_count": 36,
   "metadata": {},
   "outputs": [
    {
     "data": {
      "text/plain": [
       "<function Connection.close()>"
      ]
     },
     "execution_count": 36,
     "metadata": {},
     "output_type": "execute_result"
    }
   ],
   "source": [
    "# users Cleanup\n",
    "\n",
    "conn = sqlite3.connect('fetch.sqlite')\n",
    "cur = conn.cursor()\n",
    "\n",
    "# rename created_date to created_at because it's a timestamp, not a date\n",
    "cur.execute('''\n",
    "alter table users rename column created_date to created_at;\n",
    "''')\n",
    "\n",
    "# rename `id` to `user_id` because that's my prefered style for analysis tables\n",
    "cur.execute('''\n",
    "alter table users rename column id to user_id;\n",
    "''')\n",
    "\n",
    "cur.close\n",
    "conn.close"
   ]
  },
  {
   "cell_type": "code",
   "execution_count": 37,
   "metadata": {},
   "outputs": [
    {
     "data": {
      "text/plain": [
       "<function Connection.close()>"
      ]
     },
     "execution_count": 37,
     "metadata": {},
     "output_type": "execute_result"
    }
   ],
   "source": [
    "conn = sqlite3.connect('fetch.sqlite')\n",
    "cur = conn.cursor()\n",
    "\n",
    "\n",
    "# map values for gender\n",
    "cur.execute('''\n",
    "update users set gender = 'not_listed' where gender='unknown'\n",
    "''')\n",
    "cur.execute('''\n",
    "update users set gender = 'not_listed' where gender='not_specified'\n",
    "''')\n",
    "cur.execute('''\n",
    "update users set gender = 'not_listed' where gender='My gender isn''t listed'\n",
    "''')\n",
    "cur.execute('''\n",
    "update users set gender = 'non_binary' where gender='Non-Binary'\n",
    "''')\n",
    "cur.execute('''\n",
    "update users set gender = 'prefer_not_to_say' where gender='Prefer not to say'\n",
    "''')\n",
    "\n",
    "# cur.execute('''\n",
    "# select gender, count(*), min(created_at), max(created_at) from users group by gender order by count(*) desc\n",
    "# ''')\n",
    "\n",
    "\n",
    "# tabulate.tabulate(cur.fetchall(), tablefmt='html')\n",
    "\n",
    "cur.close\n",
    "conn.close"
   ]
  },
  {
   "cell_type": "markdown",
   "metadata": {},
   "source": [
    "Product Exploration"
   ]
  },
  {
   "cell_type": "code",
   "execution_count": 33,
   "metadata": {},
   "outputs": [
    {
     "data": {
      "text/html": [
       "<table>\n",
       "<tbody>\n",
       "<tr><td>Candy                 </td><td style=\"text-align: right;\">121036</td></tr>\n",
       "<tr><td>Hair Care             </td><td style=\"text-align: right;\">111482</td></tr>\n",
       "<tr><td>Medicines &amp; Treatments</td><td style=\"text-align: right;\"> 99118</td></tr>\n",
       "<tr><td>Bath &amp; Body           </td><td style=\"text-align: right;\"> 81469</td></tr>\n",
       "<tr><td>Skin Care             </td><td style=\"text-align: right;\"> 62587</td></tr>\n",
       "<tr><td>Nuts &amp; Seeds          </td><td style=\"text-align: right;\"> 33522</td></tr>\n",
       "<tr><td>Cookies               </td><td style=\"text-align: right;\"> 30418</td></tr>\n",
       "<tr><td>Eye Care              </td><td style=\"text-align: right;\"> 25017</td></tr>\n",
       "<tr><td>Chips                 </td><td style=\"text-align: right;\"> 23728</td></tr>\n",
       "<tr><td>Oral Care             </td><td style=\"text-align: right;\"> 22514</td></tr>\n",
       "</tbody>\n",
       "</table>"
      ],
      "text/plain": [
       "'<table>\\n<tbody>\\n<tr><td>Candy                 </td><td style=\"text-align: right;\">121036</td></tr>\\n<tr><td>Hair Care             </td><td style=\"text-align: right;\">111482</td></tr>\\n<tr><td>Medicines &amp; Treatments</td><td style=\"text-align: right;\"> 99118</td></tr>\\n<tr><td>Bath &amp; Body           </td><td style=\"text-align: right;\"> 81469</td></tr>\\n<tr><td>Skin Care             </td><td style=\"text-align: right;\"> 62587</td></tr>\\n<tr><td>Nuts &amp; Seeds          </td><td style=\"text-align: right;\"> 33522</td></tr>\\n<tr><td>Cookies               </td><td style=\"text-align: right;\"> 30418</td></tr>\\n<tr><td>Eye Care              </td><td style=\"text-align: right;\"> 25017</td></tr>\\n<tr><td>Chips                 </td><td style=\"text-align: right;\"> 23728</td></tr>\\n<tr><td>Oral Care             </td><td style=\"text-align: right;\"> 22514</td></tr>\\n</tbody>\\n</table>'"
      ]
     },
     "execution_count": 33,
     "metadata": {},
     "output_type": "execute_result"
    }
   ],
   "source": [
    "conn = sqlite3.connect('fetch.sqlite')\n",
    "cur = conn.cursor()\n",
    "\n",
    "# Product\n",
    "cur.execute('''\n",
    "select count(*) as n_rows\n",
    "    , count(distinct barcode) as n_barcodes\n",
    "    , sum(case when barcode is not null then 1 else 0 end) n_with_barcodes\n",
    "    , sum(case when brand is not null then 1 else 0 end) n_with_brand\n",
    "    , sum(case when manufacturer is not null then 1 else 0 end) n_with_manufacturer\n",
    "    , sum(case when category_1 is not null then 1 else 0 end) n_with_category_1\n",
    "    , sum(case when category_2 is not null then 1 else 0 end) n_with_category_2\n",
    "    , sum(case when category_3 is not null then 1 else 0 end) n_with_category_3\n",
    "    , sum(case when category_4 is not null then 1 else 0 end) n_with_category_4\n",
    "from products\n",
    "''')\n",
    "\n",
    "cur.execute('''\n",
    "select brand\n",
    "    , manufacturer\n",
    "    , category_1\n",
    "    , category_2\n",
    "    , category_3\n",
    "    , category_4\n",
    "    , count(*)\n",
    "from products\n",
    "    where category_4 is not null\n",
    "group by brand\n",
    "    , manufacturer\n",
    "    , category_1\n",
    "    , category_2\n",
    "    , category_3\n",
    "    , category_4\n",
    "''')\n",
    "\n",
    "cur.execute('''\n",
    "select brand\n",
    "    , count(*)\n",
    "from products\n",
    "    where brand is not null\n",
    "group by brand\n",
    "order by count(*) desc\n",
    "limit 100\n",
    "''')\n",
    "\n",
    "cur.execute('''\n",
    "select manufacturer\n",
    "    , count(*)\n",
    "from products\n",
    "    where manufacturer is not null\n",
    "group by manufacturer\n",
    "order by count(*) desc\n",
    "limit 100\n",
    "''')\n",
    "\n",
    "cur.execute('''\n",
    "select category_1\n",
    "    , count(*)\n",
    "from products\n",
    "    where category_1 is not null\n",
    "group by category_1\n",
    "order by count(*) desc\n",
    "limit 100\n",
    "''')\n",
    "\n",
    "cur.execute('''\n",
    "select category_2\n",
    "    , count(*)\n",
    "from products\n",
    "    where category_2 is not null\n",
    "group by category_2\n",
    "order by count(*) desc\n",
    "limit 10\n",
    "''')\n",
    "\n",
    "tabulate.tabulate(cur.fetchall(), tablefmt='html')\n"
   ]
  },
  {
   "cell_type": "markdown",
   "metadata": {},
   "source": [
    "Most, but not all rows have a barcode. \n",
    "Barcodes are not unique. \n",
    "Brand and Manufacturer are on about 75% of rows. The most common Manufacturer is Placeholder Manufacturer. Brand Not Known is the second most common brand.\n",
    "Category 1 and 2 are on almost all rows. Category 3 is on most and Category 4 is on very few. \n",
    "The vast majority of Products are in the top two Category_1 values: Health & Wellness and Snacks\n",
    "\n"
   ]
  },
  {
   "cell_type": "code",
   "execution_count": 3,
   "metadata": {},
   "outputs": [
    {
     "data": {
      "text/plain": [
       "<function Cursor.close()>"
      ]
     },
     "execution_count": 3,
     "metadata": {},
     "output_type": "execute_result"
    }
   ],
   "source": [
    "#Product Cleanup\n",
    "#Create a view that is de-duped on barcode, excludes NULL barcodes\n",
    "conn = sqlite3.connect('fetch.sqlite')\n",
    "cur = conn.cursor()\n",
    "\n",
    "cur.execute('''\n",
    "create view products_clean as \n",
    "    with products_rn as \n",
    "        (\n",
    "        select barcode, manufacturer, brand, category_1, category_2, category_3, category_4\n",
    "        , row_number() over (partition by barcode order by category_1 nulls last, category_2 nulls last, category_3 nulls last) as barcode_rn\n",
    "        from products\n",
    "        where barcode is not null\n",
    "        )\n",
    "    select barcode, manufacturer, brand, category_1, category_2, category_3, category_4\n",
    "    from products_rn\n",
    "    where barcode_rn = 1\n",
    "''')\n",
    "\n",
    "conn.close \n",
    "cur.close"
   ]
  },
  {
   "cell_type": "code",
   "execution_count": 3,
   "metadata": {},
   "outputs": [
    {
     "data": {
      "text/html": [
       "<table>\n",
       "<tbody>\n",
       "<tr><td>barcode in products    </td><td style=\"text-align: right;\">24854</td></tr>\n",
       "<tr><td>barcode not in products</td><td style=\"text-align: right;\">19408</td></tr>\n",
       "</tbody>\n",
       "</table>"
      ],
      "text/plain": [
       "'<table>\\n<tbody>\\n<tr><td>barcode in products    </td><td style=\"text-align: right;\">24854</td></tr>\\n<tr><td>barcode not in products</td><td style=\"text-align: right;\">19408</td></tr>\\n</tbody>\\n</table>'"
      ]
     },
     "execution_count": 3,
     "metadata": {},
     "output_type": "execute_result"
    }
   ],
   "source": [
    "conn = sqlite3.connect('fetch.sqlite')\n",
    "cur = conn.cursor()\n",
    "\n",
    "# # Transactions\n",
    "# cur.execute('''\n",
    "# select count(*) as n_rows\n",
    "#     , count(distinct receipt_id) as n_receipts\n",
    "#     , count(distinct case when purchase_date is not null then receipt_id else null end) as n_with_purchase_dates\n",
    "#     , count(distinct case when scan_date is not null then receipt_id else null end) as n_with_scan_dates\n",
    "#     , count(distinct case when store_name is not null then receipt_id else null end) as n_with_store_name\n",
    "#     , count(distinct case when user_id is not null then receipt_id else null end) as n_with_user_id\n",
    "#     , count(case when barcode is not null then receipt_id else null end) as n_with_barcode\n",
    "# from transactions\n",
    "# ''')\n",
    "\n",
    "# #check valid user_ids\n",
    "\n",
    "# cur.execute('''\n",
    "# select count(distinct transactions.user_id) as n_users, count(*) as n_rows\n",
    "# from transactions\n",
    "#     inner join users on transactions.user_id = users.user_id\n",
    "# ''')\n",
    "\n",
    "# # cur.execute('''\n",
    "# # select user_id, count(*) as n_rows\n",
    "# # from transactions\n",
    "# # group by user_id \n",
    "# # order by n_rows desc \n",
    "# # limit 10\n",
    "# # ''')\n",
    "\n",
    "# # # top user: 64e62de5ca929250373e6cf5\n",
    "# # cur.execute('''\n",
    "# # select *\n",
    "# # from users\n",
    "# # where lower(user_id) like '64e62de%'\n",
    "# # ''')\n",
    "\n",
    "# # look at time period for data\n",
    "\n",
    "# cur.execute('''\n",
    "# select min(scan_date), max(scan_date), min(purchase_date), max(purchase_date)\n",
    "# from transactions\n",
    "# ''')\n",
    "\n",
    "# cur.execute('''\n",
    "# select *\n",
    "# from transactions\n",
    "# where date(scan_date) <> purchase_date\n",
    "# limit 10\n",
    "# ''')\n",
    "\n",
    "# cur.execute('''\n",
    "# select count(*)\n",
    "# from transactions\n",
    "# where date(scan_date) < purchase_date\n",
    "# ''')\n",
    "\n",
    "# #figure out the quantity and pricing logic\n",
    "\n",
    "# cur.execute('''\n",
    "# select store_name, count(*) as n_rows, min(final_quantity), max(final_quantity), min(final_sale), max(final_sale)\n",
    "# from transactions\n",
    "# group by store_name order by n_rows desc\n",
    "# ''')\n",
    "\n",
    "# cur.execute('''\n",
    "# select final_sale, count(*) as n_rows\n",
    "# from transactions\n",
    "# where final_quantity = 'zero'\n",
    "# group by final_sale order by final_sale asc\n",
    "# ''')\n",
    "\n",
    "# cur.execute('''\n",
    "# select min(final_quantity), max(final_quantity)\n",
    "# from transactions\n",
    "# where final_quantity <> 'zero'\n",
    "# ''')\n",
    "\n",
    "# cur.execute('''\n",
    "# select case when final_sale = ' ' then 'blank sale' else 'not blank sale' end as sale_flag\n",
    "# , count(*) as n_rows\n",
    "# from transactions\n",
    "# where final_quantity <> 'zero'\n",
    "# group by sale_flag\n",
    "# ''')\n",
    "\n",
    "# Quantity is a float between 0.01 and 9, unless it has the value of 'zero'\n",
    "# if quantity is 'zero', then there is a final sale value which can is between 0 and max value of 93.67\n",
    "# if Quantity is not zero, there may or may not be a value for for the final sale. If there isn't, it's equal to ' '. Not blank or NULL\n",
    "\n",
    "\n",
    "# validity of barcode data\n",
    "\n",
    "cur.execute('''\n",
    "select case when p.barcode is not null then 'barcode in products' else 'barcode not in products' end as barcode_flag\n",
    ", count(*) as n_rows\n",
    "from transactions as t\n",
    "    left join products p on t.barcode = p.barcode\n",
    "where t.barcode is not null\n",
    "group by barcode_flag\n",
    "''')\n",
    "\n",
    "tabulate.tabulate(cur.fetchall(), tablefmt='html')\n",
    "\n"
   ]
  },
  {
   "cell_type": "markdown",
   "metadata": {},
   "source": [
    "There is no unique key for this table. receipt ID is for the \"basket\" of items.\n",
    "100% data coverage for purchase date, scan date, store name and user_id\n",
    "But only 88% coverage for barcode. The rest of those items do not have barcodes. \n",
    "\n",
    "While there is a `user_id` for every row, only a small number (91) of the `user_id`s exist in the `users` table. This will essentially prohibit transaction analysis from using user data.\n",
    "\n",
    "Transactions are all scanned between June 12th and September 8th of 2024. Purchase dates are all in the same date range. \n",
    "\n",
    "The purchase date is often the same day as the scan, but not always. Scan is usually after purchase, but not always. I'd assume that the purchase date is manually entered by the customer and the scan date is machine generated (ie when a receipt is scanned in).\n",
    "\n",
    "Walmart is by far the most common store, with about 40% of the entries. However, there is a very very long tail. "
   ]
  },
  {
   "cell_type": "code",
   "execution_count": null,
   "metadata": {},
   "outputs": [
    {
     "data": {
      "text/plain": [
       "<sqlite3.Cursor at 0x117bc9340>"
      ]
     },
     "execution_count": 6,
     "metadata": {},
     "output_type": "execute_result"
    }
   ],
   "source": [
    "# transactions Cleanup\n",
    "\n",
    "# rename scan_date to scan_at because it's a timestamp, not a date\n",
    "cur.execute('''\n",
    "alter table transactions rename column scan_date to scan_at;\n",
    "''')\n",
    "\n",
    "# replace final_quantity = 'zero' with NULL\n",
    "cur.execute('''\n",
    "update transactions set final_quantity = NULL where final_quantity = 'zero'\n",
    "''')\n",
    "\n",
    "# replace final_sale = ' ' with NULL\n",
    "cur.execute('''\n",
    "update transactions set final_sale = NULL where final_sale = ' '\n",
    "''')"
   ]
  }
 ],
 "metadata": {
  "kernelspec": {
   "display_name": ".venv",
   "language": "python",
   "name": "python3"
  },
  "language_info": {
   "codemirror_mode": {
    "name": "ipython",
    "version": 3
   },
   "file_extension": ".py",
   "mimetype": "text/x-python",
   "name": "python",
   "nbconvert_exporter": "python",
   "pygments_lexer": "ipython3",
   "version": "3.13.1"
  }
 },
 "nbformat": 4,
 "nbformat_minor": 2
}
