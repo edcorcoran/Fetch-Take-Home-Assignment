{
 "cells": [
  {
   "cell_type": "markdown",
   "metadata": {},
   "source": [
    "# Code for Product Data Scientist Take Home Exercise\n"
   ]
  },
  {
   "cell_type": "code",
   "execution_count": 23,
   "metadata": {},
   "outputs": [],
   "source": [
    "import statsmodels.stats.power as smp"
   ]
  },
  {
   "cell_type": "code",
   "execution_count": 30,
   "metadata": {},
   "outputs": [
    {
     "name": "stdout",
     "output_type": "stream",
     "text": [
      "Required Sample Size: 156978\n"
     ]
    }
   ],
   "source": [
    "effect_size = 0.01  # Desired effect size\n",
    "alpha = 0.05  # Significance level\n",
    "\n",
    "power_analysis = smp.TTestIndPower()\n",
    "sample_size = power_analysis.solve_power(effect_size=effect_size, alpha=alpha, power=0.8)\n",
    "\n",
    "print(\"Required Sample Size:\", round(sample_size))"
   ]
  },
  {
   "cell_type": "code",
   "execution_count": 25,
   "metadata": {},
   "outputs": [
    {
     "name": "stdout",
     "output_type": "stream",
     "text": [
      "Incremental Points on Test Group:  750,000\n",
      "Incremental Points on Experiment:  1,500,000\n",
      "Incremental Points on Full User Base:  15,000,000.0\n",
      "Incremental Points on Full User Base, Annualized:  684,375,000.0\n"
     ]
    }
   ],
   "source": [
    "# Estimation of incremental value\n",
    "print(\"Incremental Points on Test Group: \", f'{250000*3:,}')\n",
    "print(\"Incremental Points on Experiment: \", f'{500000*3:,}')\n",
    "print(\"Incremental Points on Full User Base: \", f'{(500000/.1)*3:,}')\n",
    "print(\"Incremental Points on Full User Base, Annualized: \", f'{(365/8)*(500000/.1)*3:,}')\n"
   ]
  }
 ],
 "metadata": {
  "kernelspec": {
   "display_name": ".venv",
   "language": "python",
   "name": "python3"
  },
  "language_info": {
   "codemirror_mode": {
    "name": "ipython",
    "version": 3
   },
   "file_extension": ".py",
   "mimetype": "text/x-python",
   "name": "python",
   "nbconvert_exporter": "python",
   "pygments_lexer": "ipython3",
   "version": "3.13.1"
  }
 },
 "nbformat": 4,
 "nbformat_minor": 2
}
